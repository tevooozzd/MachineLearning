{
 "cells": [
  {
   "cell_type": "markdown",
   "metadata": {},
   "source": [
    "# EXERCISE 1"
   ]
  },
  {
   "cell_type": "markdown",
   "metadata": {},
   "source": [
    "#####   1. Criação de Matrizes e Acesso de Elementos\n",
    "Crie uma matriz de 2x3 com os seguintes valores: [[1, 2, 3], [4, 5, 6]].\n",
    "Acesse o elemento da segunda linha, terceira coluna."
   ]
  },
  {
   "cell_type": "code",
   "execution_count": 4,
   "metadata": {},
   "outputs": [
    {
     "name": "stdout",
     "output_type": "stream",
     "text": [
      "6\n"
     ]
    }
   ],
   "source": [
    "import numpy as np\n",
    "\n",
    "matrix = np.array([[1,2,3], [4,5,6]])\n",
    "print(matrix[1,2])\n"
   ]
  },
  {
   "cell_type": "markdown",
   "metadata": {},
   "source": [
    "# EXERCISE 2\n"
   ]
  },
  {
   "cell_type": "markdown",
   "metadata": {},
   "source": [
    "#####  Crie duas matrizes 2x2, some e subtraia.\n",
    "\n"
   ]
  },
  {
   "cell_type": "code",
   "execution_count": 5,
   "metadata": {},
   "outputs": [
    {
     "name": "stdout",
     "output_type": "stream",
     "text": [
      "A soma das duas matrizes são de\n",
      " [[ 6  8]\n",
      " [10 12]]\n",
      "\n",
      "A soma das duas matrizes são de\n",
      " [[-4 -4]\n",
      " [-4 -4]]\n",
      "\n"
     ]
    }
   ],
   "source": [
    "import numpy as np\n",
    "\n",
    "matrix = np.array([[1,2] ,[3,4]])\n",
    "matrix2 = np.array([[5,6] ,[7,8]])\n",
    "print(f\"A soma das duas matrizes são de\\n {matrix + matrix2}\\n\")\n",
    "print(f\"A soma das duas matrizes são de\\n {matrix - matrix2}\\n\")"
   ]
  },
  {
   "cell_type": "markdown",
   "metadata": {},
   "source": [
    "# EXERCISE 3\n"
   ]
  },
  {
   "cell_type": "markdown",
   "metadata": {},
   "source": [
    "#### Crie uma matriz 1D com os valores de 1 a 9 (ou seja, [1, 2, 3, 4, 5, 6, 7, 8, 9]). Realize um reshape dessa matriz para uma matriz 3x3."
   ]
  },
  {
   "cell_type": "code",
   "execution_count": 9,
   "metadata": {},
   "outputs": [
    {
     "name": "stdout",
     "output_type": "stream",
     "text": [
      "Antes \n",
      "[1 2 3 4 5 6 7 8 9]\n",
      "\n",
      "Depois \n",
      "[[1 2 3]\n",
      " [4 5 6]\n",
      " [7 8 9]]\n",
      "\n"
     ]
    }
   ],
   "source": [
    "import numpy as np\n",
    "matrix1d = np.array([1,2,3,4,5,6,7,8,9])\n",
    "print(f\"Antes \\n{matrix1d}\\n\")\n",
    "matrix2d = matrix1d.reshape(3,3)\n",
    "print(f\"Depois \\n{matrix2d}\\n\")"
   ]
  },
  {
   "cell_type": "markdown",
   "metadata": {},
   "source": [
    "# EXERCISE 4\n"
   ]
  },
  {
   "cell_type": "markdown",
   "metadata": {},
   "source": [
    "#### Crie uma matriz 3x3 da tabuada do 2, e utilize um filtro para acessar valores acima de 5"
   ]
  },
  {
   "cell_type": "code",
   "execution_count": 10,
   "metadata": {},
   "outputs": [
    {
     "name": "stdout",
     "output_type": "stream",
     "text": [
      "Os valores acima de 5 são [ 6  8 10 12 14 16]\n"
     ]
    }
   ],
   "source": [
    "import numpy as np\n",
    "matrix = np.array([[0,2,4], [6,8,10], [12,14,16]])\n",
    "print(f\"Os valores acima de 5 são {matrix[matrix > 5]}\")"
   ]
  },
  {
   "cell_type": "markdown",
   "metadata": {},
   "source": [
    "# EXERCISE 5\n"
   ]
  },
  {
   "cell_type": "markdown",
   "metadata": {},
   "source": [
    "#### Crie duas matrizes, empilhe elas verticalmente e horizontalmente"
   ]
  },
  {
   "cell_type": "code",
   "execution_count": 14,
   "metadata": {},
   "outputs": [
    {
     "name": "stdout",
     "output_type": "stream",
     "text": [
      "As matrizes empilhadas verticalmente:\n",
      " [[1 2]\n",
      " [2 3]\n",
      " [4 5]\n",
      " [6 7]]\n",
      "As matrizes empilhadas horizontal:\n",
      " [[1 2 4 5]\n",
      " [2 3 6 7]]\n"
     ]
    }
   ],
   "source": [
    "import numpy as np\n",
    "\n",
    "matrix1 = np.array([[1,2], [2,3]])\n",
    "matrix2 = np.array([[4,5], [6,7]])\n",
    "vertical = np.vstack((matrix1, matrix2))\n",
    "horizontal = np.hstack((matrix1, matrix2))\n",
    "print(f\"As matrizes empilhadas verticalmente:\\n {vertical}\")\n",
    "print(f\"As matrizes empilhadas horizontal:\\n {horizontal}\")"
   ]
  },
  {
   "cell_type": "markdown",
   "metadata": {},
   "source": [
    "# EXERCISE 6"
   ]
  },
  {
   "cell_type": "markdown",
   "metadata": {},
   "source": [
    "#### Crie uma matrix 3x6 e divida em 2 sub-arrays"
   ]
  },
  {
   "cell_type": "code",
   "execution_count": 19,
   "metadata": {},
   "outputs": [
    {
     "name": "stdout",
     "output_type": "stream",
     "text": [
      "Array 1\n",
      "[[ 1  2  3]\n",
      " [ 7  8  9]\n",
      " [13 14 15]]\n",
      "\n",
      "Array 2\n",
      "[[ 4  5  6]\n",
      " [10 11 12]\n",
      " [16 17 18]]\n",
      "\n"
     ]
    }
   ],
   "source": [
    "import numpy as np\n",
    "\n",
    "matrix3x6 = np.array([[1,2,3,4,5,6], [7,8,9,10,11,12], [13,14,15,16,17,18]])\n",
    "split_array = np.split(matrix3x6, 2, axis= 1)\n",
    "for i, sub_array in enumerate(split_array):\n",
    "    print(f\"Array {i +1}\")\n",
    "    print(sub_array)\n",
    "    print()"
   ]
  }
 ],
 "metadata": {
  "kernelspec": {
   "display_name": "Python 3",
   "language": "python",
   "name": "python3"
  },
  "language_info": {
   "codemirror_mode": {
    "name": "ipython",
    "version": 3
   },
   "file_extension": ".py",
   "mimetype": "text/x-python",
   "name": "python",
   "nbconvert_exporter": "python",
   "pygments_lexer": "ipython3",
   "version": "3.12.6"
  }
 },
 "nbformat": 4,
 "nbformat_minor": 2
}
