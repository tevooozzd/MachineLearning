{
 "cells": [
  {
   "cell_type": "markdown",
   "metadata": {},
   "source": [
    "#   Produto Escalar"
   ]
  },
  {
   "cell_type": "code",
   "execution_count": 3,
   "metadata": {},
   "outputs": [
    {
     "name": "stdout",
     "output_type": "stream",
     "text": [
      "Vetor A: [1 3 2 5 9]\n",
      "Vetor B: [2 6 4 5 5]\n",
      "Após: 98\n"
     ]
    }
   ],
   "source": [
    "# Crie dois vetores A e B de tamanho 5, contendo números aleatórios entre 1 e 10 e calcule o produto escalar entre os dois vetores.\n",
    "import numpy as np\n",
    "# Criando o vetor\n",
    "vetorA = np.random.randint(1,11,5)\n",
    "print(f\"Vetor A: {vetorA}\")\n",
    "vetorB = np.random.randint(1,11,5)\n",
    "print(f\"Vetor B: {vetorB}\")\n",
    "\n",
    "# Produto escalar\n",
    "print(f\"Após: {np.dot(vetorA, vetorB)}\")"
   ]
  }
 ],
 "metadata": {
  "kernelspec": {
   "display_name": "Python 3",
   "language": "python",
   "name": "python3"
  },
  "language_info": {
   "codemirror_mode": {
    "name": "ipython",
    "version": 3
   },
   "file_extension": ".py",
   "mimetype": "text/x-python",
   "name": "python",
   "nbconvert_exporter": "python",
   "pygments_lexer": "ipython3",
   "version": "3.12.6"
  }
 },
 "nbformat": 4,
 "nbformat_minor": 2
}
