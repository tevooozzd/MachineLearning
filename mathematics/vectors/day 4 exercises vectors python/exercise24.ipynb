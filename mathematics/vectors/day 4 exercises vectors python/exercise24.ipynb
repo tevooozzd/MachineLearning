{
 "cells": [
  {
   "cell_type": "markdown",
   "metadata": {},
   "source": [
    "# Produto escalar 2"
   ]
  },
  {
   "cell_type": "code",
   "execution_count": 2,
   "metadata": {},
   "outputs": [
    {
     "name": "stdout",
     "output_type": "stream",
     "text": [
      "Antes da reorganização:\n",
      "VetorA:[83 65 20 62 19 95  4]\n",
      "VetorB:[85 20  1 83 70  1 83]\n",
      "O produto escalar dos vetores A e B normalizado é: 14306.896467738808\n"
     ]
    }
   ],
   "source": [
    "# Crie dois vetores de tamanho 7, normalize ambos usando Z-score e calcule o produto escalar entre eles.\n",
    "\n",
    "import numpy as np\n",
    "# Criando os vetores\n",
    "vetorA = np.random.randint(1,100,7)\n",
    "vetorB = np.random.randint(1,100,7)\n",
    "print(f\"Antes da reorganização:\\nVetorA:{vetorA}\\nVetorB:{vetorB}\")\n",
    "\n",
    "\n",
    "# Normalizando eles(\n",
    "vetorA_normalizado = (vetorA - np.mean(vetorA) / np.std(vetorA))\n",
    "vetorB_normalizado = (vetorB - np.mean(vetorB) / np.std(vetorB))\n",
    "\n",
    "# Produto escalar entre eles\n",
    "produto_escalar = np.dot(vetorA_normalizado, vetorB_normalizado)\n",
    "print(f\"O produto escalar dos vetores A e B normalizado é: {produto_escalar}\")"
   ]
  }
 ],
 "metadata": {
  "kernelspec": {
   "display_name": "Python 3",
   "language": "python",
   "name": "python3"
  },
  "language_info": {
   "codemirror_mode": {
    "name": "ipython",
    "version": 3
   },
   "file_extension": ".py",
   "mimetype": "text/x-python",
   "name": "python",
   "nbconvert_exporter": "python",
   "pygments_lexer": "ipython3",
   "version": "3.12.6"
  }
 },
 "nbformat": 4,
 "nbformat_minor": 2
}
