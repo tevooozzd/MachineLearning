{
 "cells": [
  {
   "cell_type": "markdown",
   "metadata": {},
   "source": [
    "# Vetores reshape 2"
   ]
  },
  {
   "cell_type": "code",
   "execution_count": 1,
   "metadata": {},
   "outputs": [
    {
     "name": "stdout",
     "output_type": "stream",
     "text": [
      "Antes:\n",
      " [5 5 7 1 5 2 3 7 8]\n",
      "Após:\n",
      " [[5 5 7]\n",
      " [1 5 2]\n",
      " [3 7 8]]\n"
     ]
    }
   ],
   "source": [
    "# Crie um vetor de tamanho 9 com valores aleatórios e use o reshape para transformá-lo em uma matriz 3x3.\n",
    "\n",
    "import numpy as np\n",
    " \n",
    "# Criando o vetor (1x9)\n",
    "vetor = np.random.randint(1,10,9)\n",
    "print(f\"Antes:\\n {vetor}\")\n",
    "\n",
    "# Reshape no vetor (3x3)\n",
    "vetor = vetor.reshape(3,3)\n",
    "print(f\"Após:\\n {vetor}\")\n"
   ]
  }
 ],
 "metadata": {
  "kernelspec": {
   "display_name": "Python 3",
   "language": "python",
   "name": "python3"
  },
  "language_info": {
   "codemirror_mode": {
    "name": "ipython",
    "version": 3
   },
   "file_extension": ".py",
   "mimetype": "text/x-python",
   "name": "python",
   "nbconvert_exporter": "python",
   "pygments_lexer": "ipython3",
   "version": "3.12.6"
  }
 },
 "nbformat": 4,
 "nbformat_minor": 2
}
