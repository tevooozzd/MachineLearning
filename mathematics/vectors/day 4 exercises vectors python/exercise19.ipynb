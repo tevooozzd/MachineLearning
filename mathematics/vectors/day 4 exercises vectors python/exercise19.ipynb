{
 "cells": [
  {
   "cell_type": "markdown",
   "metadata": {},
   "source": [
    "# Normalização"
   ]
  },
  {
   "cell_type": "code",
   "execution_count": 8,
   "metadata": {},
   "outputs": [
    {
     "name": "stdout",
     "output_type": "stream",
     "text": [
      "Antes de normalizar o vetor é:\n",
      "[257  96 480 354 436 182  43  41]\n",
      "Após a normalização o vetor é:\n",
      "['0.4920', '0.1253', '1.0000', '0.7130', '0.8998', '0.3212', '0.0046', '0.0000']\n"
     ]
    }
   ],
   "source": [
    "#  Crie um array de tamanho 8 com valores entre 10 e 500 e Normalize os valores utilizando Min-Max para ficar entre 0 e 1\n",
    "\n",
    "import numpy as np\n",
    "\n",
    "# Criando o vetor\n",
    "vetor = np.random.randint(10,500,8)\n",
    "print(f\"Antes de normalizar o vetor é:\\n{vetor}\")\n",
    "\n",
    "# Normalizando usando min-max\n",
    "vetor_normalizado = (vetor - vetor.min()) /  (vetor.max() - vetor.min())\n",
    "print(f\"Após a normalização o vetor é:\\n{[f'{num:.4f}' for num in vetor_normalizado]}\")"
   ]
  }
 ],
 "metadata": {
  "kernelspec": {
   "display_name": "Python 3",
   "language": "python",
   "name": "python3"
  },
  "language_info": {
   "codemirror_mode": {
    "name": "ipython",
    "version": 3
   },
   "file_extension": ".py",
   "mimetype": "text/x-python",
   "name": "python",
   "nbconvert_exporter": "python",
   "pygments_lexer": "ipython3",
   "version": "3.12.6"
  }
 },
 "nbformat": 4,
 "nbformat_minor": 2
}
