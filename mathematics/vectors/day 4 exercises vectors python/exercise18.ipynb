{
 "cells": [
  {
   "cell_type": "markdown",
   "metadata": {},
   "source": [
    "# Mascaras"
   ]
  },
  {
   "cell_type": "code",
   "execution_count": 3,
   "metadata": {},
   "outputs": [
    {
     "name": "stdout",
     "output_type": "stream",
     "text": [
      "Antes da reorganização:\n",
      "[ 44 -50  -4  29  27  40  35 -19 -36 -47 -19 -45  21  26  45]\n",
      "Após a máscara positiva:\n",
      "[44 29 27 40 35 21 26 45]\n",
      "Após a máscara negativa:\n",
      "[-50  -4 -19 -36 -47 -19 -45]\n"
     ]
    }
   ],
   "source": [
    "# Criar um vetor aleatório de tamanho 15 e dividir os elementos em dois grupos: negativos e positivos.\n",
    "\n",
    "import numpy as np\n",
    "\n",
    "# Criando o vetor\n",
    "vetor = np.random.randint(-50,50,15)\n",
    "print(f\"Antes da reorganização:\\n{vetor}\")\n",
    "\n",
    "# Máscaras\n",
    "m_positivo = vetor > 0\n",
    "m_negativo = vetor < 0\n",
    "\n",
    "print(f\"Após a máscara positiva:\\n{vetor[m_positivo]}\")\n",
    "print(f\"Após a máscara negativa:\\n{vetor[m_negativo]}\")"
   ]
  }
 ],
 "metadata": {
  "kernelspec": {
   "display_name": "Python 3",
   "language": "python",
   "name": "python3"
  },
  "language_info": {
   "codemirror_mode": {
    "name": "ipython",
    "version": 3
   },
   "file_extension": ".py",
   "mimetype": "text/x-python",
   "name": "python",
   "nbconvert_exporter": "python",
   "pygments_lexer": "ipython3",
   "version": "3.12.6"
  }
 },
 "nbformat": 4,
 "nbformat_minor": 2
}
