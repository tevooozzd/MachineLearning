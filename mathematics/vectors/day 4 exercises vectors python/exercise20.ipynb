{
 "cells": [
  {
   "cell_type": "markdown",
   "metadata": {},
   "source": [
    "# Substituição"
   ]
  },
  {
   "cell_type": "code",
   "execution_count": 1,
   "metadata": {},
   "outputs": [
    {
     "name": "stdout",
     "output_type": "stream",
     "text": [
      "Antes:\n",
      "[2 5 9 3 3 5 3 6 7 7 9 1 3 2 5 1 4 6 1 5]\n",
      "\n",
      "A média é de: 4.35\n",
      "\n",
      "Após a substituição com máscaras e filtros o vetor ficou:\n",
      " [0 1 1 0 0 1 0 1 1 1 1 0 0 0 1 0 0 1 0 1]\n"
     ]
    }
   ],
   "source": [
    "# Criar um vetor de tamanho 20 e substituir os valores maiores que a média por 1 e os menores por 0.\n",
    "\n",
    "import numpy as np\n",
    "\n",
    "# Criando o vetor\n",
    "vetor = np.random.randint(1,10,20)\n",
    "print(f\"Antes:\\n{vetor}\")\n",
    "\n",
    "# Encontrando a média\n",
    "media = np.mean(vetor)\n",
    "print(f\"\\nA média é de: {media}\")\n",
    "\n",
    "# Substituindo os valores\n",
    "vetor = np.where(vetor > media, 1, 0)\n",
    "print(f\"\\nApós a substituição com máscaras e filtros o vetor ficou:\\n {vetor}\")\n",
    "\n"
   ]
  }
 ],
 "metadata": {
  "kernelspec": {
   "display_name": "Python 3",
   "language": "python",
   "name": "python3"
  },
  "language_info": {
   "codemirror_mode": {
    "name": "ipython",
    "version": 3
   },
   "file_extension": ".py",
   "mimetype": "text/x-python",
   "name": "python",
   "nbconvert_exporter": "python",
   "pygments_lexer": "ipython3",
   "version": "3.12.6"
  }
 },
 "nbformat": 4,
 "nbformat_minor": 2
}
