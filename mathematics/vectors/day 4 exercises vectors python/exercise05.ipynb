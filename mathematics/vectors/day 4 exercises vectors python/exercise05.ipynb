{
 "cells": [
  {
   "cell_type": "markdown",
   "metadata": {},
   "source": [
    "# Produto matriarcal"
   ]
  },
  {
   "cell_type": "code",
   "execution_count": 2,
   "metadata": {},
   "outputs": [
    {
     "name": "stdout",
     "output_type": "stream",
     "text": [
      "Antes:\n",
      " [8 1 4 9 5]\n",
      " [3 9 8 7 3]\n",
      "Após: 143\n"
     ]
    }
   ],
   "source": [
    "# Crie dois vetores com valores aleatórios entre 1 e 10. Realize a multiplicação de uma matriz pela outra (produto matricial)\n",
    "\n",
    "import numpy as np\n",
    "import numpy as np\n",
    "vetorA = np.random.randint(1,10,5)\n",
    "vetorB = np.random.randint(1,10,5)\n",
    "print(f\"Antes:\\n {vetorA}\\n {vetorB}\")\n",
    "print(f\"Após: {np.dot(vetorA, vetorB)}\")"
   ]
  }
 ],
 "metadata": {
  "kernelspec": {
   "display_name": "Python 3",
   "language": "python",
   "name": "python3"
  },
  "language_info": {
   "codemirror_mode": {
    "name": "ipython",
    "version": 3
   },
   "file_extension": ".py",
   "mimetype": "text/x-python",
   "name": "python",
   "nbconvert_exporter": "python",
   "pygments_lexer": "ipython3",
   "version": "3.12.6"
  }
 },
 "nbformat": 4,
 "nbformat_minor": 2
}
