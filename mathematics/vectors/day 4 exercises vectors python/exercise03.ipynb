{
 "cells": [
  {
   "cell_type": "markdown",
   "metadata": {},
   "source": [
    "# Normalizando um vetor"
   ]
  },
  {
   "cell_type": "code",
   "execution_count": 9,
   "metadata": {},
   "outputs": [
    {
     "name": "stdout",
     "output_type": "stream",
     "text": [
      "Antes: [70 51 78 99 58]\n",
      "Apís: [0.70408163 0.51020408 0.78571429 1.         0.58163265]\n"
     ]
    }
   ],
   "source": [
    "# Crie um vetor v de tamanho 7 com valores aleatórios entre 0 e 100, normalize o vetor\n",
    "\n",
    "import numpy as np\n",
    "vetor = np.random.randint(0,100,7)\n",
    "print(f\"Antes: {vetor[:5]}\")\n",
    "\n",
    "# Normalizando\n",
    "vetor_normalizado = (vetor - np.min(vetor)) / (np.max(vetor) - np.min(vetor))\n",
    "print(f\"Apís: {vetor_normalizado[:5]}\")\n"
   ]
  }
 ],
 "metadata": {
  "kernelspec": {
   "display_name": "Python 3",
   "language": "python",
   "name": "python3"
  },
  "language_info": {
   "codemirror_mode": {
    "name": "ipython",
    "version": 3
   },
   "file_extension": ".py",
   "mimetype": "text/x-python",
   "name": "python",
   "nbconvert_exporter": "python",
   "pygments_lexer": "ipython3",
   "version": "3.12.6"
  }
 },
 "nbformat": 4,
 "nbformat_minor": 2
}
