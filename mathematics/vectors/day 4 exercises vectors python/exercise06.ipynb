{
 "cells": [
  {
   "cell_type": "markdown",
   "metadata": {},
   "source": [
    "# Vetores Transpostos"
   ]
  },
  {
   "cell_type": "code",
   "execution_count": null,
   "metadata": {},
   "outputs": [
    {
     "name": "stdout",
     "output_type": "stream",
     "text": [
      "Antes:\n",
      "[[1 2 3]\n",
      " [4 5 6]]\n",
      "Após:\n",
      " [[1 4]\n",
      " [2 5]\n",
      " [3 6]]\n"
     ]
    }
   ],
   "source": [
    "#  Crie um vetor de tamanho 5 com valores aleatórios entre 1 e 10. Obtenha o vetor transposto (transforme o vetor em uma coluna) e mostre o resultado.\n",
    "import numpy as np\n",
    "vetor = np.array([[1,2,3], [4,5,6]])\n",
    "print(f\"Antes:\\n{vetor}\")\n",
    "\n",
    "# Transpondo o vetor (Inverter suas dimensões (2x3) -> (3x2) )\n",
    "vetor_t = vetor.T\n",
    "print(f\"Após:\\n {vetor_t}\")\n"
   ]
  }
 ],
 "metadata": {
  "kernelspec": {
   "display_name": "Python 3",
   "language": "python",
   "name": "python3"
  },
  "language_info": {
   "codemirror_mode": {
    "name": "ipython",
    "version": 3
   },
   "file_extension": ".py",
   "mimetype": "text/x-python",
   "name": "python",
   "nbconvert_exporter": "python",
   "pygments_lexer": "ipython3",
   "version": "3.12.6"
  }
 },
 "nbformat": 4,
 "nbformat_minor": 2
}
