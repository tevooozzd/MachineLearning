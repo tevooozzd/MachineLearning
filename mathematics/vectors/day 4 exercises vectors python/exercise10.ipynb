{
 "cells": [
  {
   "cell_type": "markdown",
   "metadata": {},
   "source": [
    "# Vetores reshape"
   ]
  },
  {
   "cell_type": "code",
   "execution_count": 1,
   "metadata": {},
   "outputs": [
    {
     "name": "stdout",
     "output_type": "stream",
     "text": [
      "Antes:\n",
      " [9 1 8 1 9 6]\n",
      "Após:\n",
      " [[9 1 8]\n",
      " [1 9 6]]\n"
     ]
    }
   ],
   "source": [
    "# Crie um vetor de tamanho 6 com valores aleatórios. Use o reshape para transformá-lo em uma matriz 2x3.\n",
    "\n",
    "import numpy as np\n",
    " \n",
    "# Criando o vetor (1x6)\n",
    "vetor = np.random.randint(1,10,6)\n",
    "print(f\"Antes:\\n {vetor}\")\n",
    "\n",
    "# Reshape (2x3)\n",
    "vetor = vetor.reshape(2,3)\n",
    "print(f\"Após:\\n {vetor}\")"
   ]
  }
 ],
 "metadata": {
  "kernelspec": {
   "display_name": "Python 3",
   "language": "python",
   "name": "python3"
  },
  "language_info": {
   "codemirror_mode": {
    "name": "ipython",
    "version": 3
   },
   "file_extension": ".py",
   "mimetype": "text/x-python",
   "name": "python",
   "nbconvert_exporter": "python",
   "pygments_lexer": "ipython3",
   "version": "3.12.6"
  }
 },
 "nbformat": 4,
 "nbformat_minor": 2
}
