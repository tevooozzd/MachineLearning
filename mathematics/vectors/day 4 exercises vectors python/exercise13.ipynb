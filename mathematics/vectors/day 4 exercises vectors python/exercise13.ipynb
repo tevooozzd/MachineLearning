{
 "cells": [
  {
   "cell_type": "markdown",
   "metadata": {},
   "source": [
    "# Vetor concatenado 3"
   ]
  },
  {
   "cell_type": "code",
   "execution_count": 19,
   "metadata": {},
   "outputs": [
    {
     "name": "stdout",
     "output_type": "stream",
     "text": [
      "Antes vetor 1:\n",
      "[3 3 9 4 3]\n",
      "Antes vetor 2:\n",
      "[5 1 8 6 3]\n",
      "\n",
      "Após vetor horizontal:\n",
      "[3 3 9 4 3 5 1 8 6 3]\n",
      "\n",
      "Após vetor vertical:\n",
      "[[3 3 9 4 3]\n",
      " [5 1 8 6 3]]\n"
     ]
    }
   ],
   "source": [
    "# Crie dois vetores 1D, vetor1 e vetor2, ambos com 5 elementos, e os concatene para formar um único vetor.\n",
    "\n",
    "\n",
    "# Criando os vetores\n",
    "import numpy as np\n",
    "vetor1 = np.random.randint(1,10,5)\n",
    "vetor2 = np.random.randint(1,10,5)\n",
    "print(f\"Antes vetor 1:\\n{vetor1}\")\n",
    "print(f\"Antes vetor 2:\\n{vetor2}\")\n",
    "\n",
    "\n",
    "# Concatenando\n",
    "vetor_horizontal = np.hstack((vetor1, vetor2))\n",
    "vetor_vertical = np.vstack((vetor1, vetor2))\n",
    "print(f\"\\nApós vetor horizontal:\\n{vetor_horizontal}\")\n",
    "print(f\"\\nApós vetor vertical:\\n{vetor_vertical}\")"
   ]
  }
 ],
 "metadata": {
  "kernelspec": {
   "display_name": "Python 3",
   "language": "python",
   "name": "python3"
  },
  "language_info": {
   "codemirror_mode": {
    "name": "ipython",
    "version": 3
   },
   "file_extension": ".py",
   "mimetype": "text/x-python",
   "name": "python",
   "nbconvert_exporter": "python",
   "pygments_lexer": "ipython3",
   "version": "3.12.6"
  }
 },
 "nbformat": 4,
 "nbformat_minor": 2
}
