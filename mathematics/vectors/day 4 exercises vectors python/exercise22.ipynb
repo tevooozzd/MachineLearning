{
 "cells": [
  {
   "cell_type": "markdown",
   "metadata": {},
   "source": [
    "# Reorganização"
   ]
  },
  {
   "cell_type": "code",
   "execution_count": 1,
   "metadata": {},
   "outputs": [
    {
     "name": "stdout",
     "output_type": "stream",
     "text": [
      "Antes da reorganização:\n",
      "[4 3 3 4 5 2 4 9 1 9 9 7]\n",
      "\n",
      "Após:\n",
      "[[4 3 3 4]\n",
      " [5 2 4 9]\n",
      " [1 9 9 7]]\n"
     ]
    }
   ],
   "source": [
    "# Criar um vetor de tamanho 12 e separá-lo em 3 vetores de tamanho 4.\n",
    "import numpy as np\n",
    "\n",
    "# Criando o vetor\n",
    "vetor = np.random.randint(1,10,12)\n",
    "print(f\"Antes da reorganização:\\n{vetor}\")\n",
    "\n",
    "# Substituindo\n",
    "vetor = vetor.reshape(3,4)\n",
    "print(f\"\\nApós:\\n{vetor}\")"
   ]
  }
 ],
 "metadata": {
  "kernelspec": {
   "display_name": "Python 3",
   "language": "python",
   "name": "python3"
  },
  "language_info": {
   "codemirror_mode": {
    "name": "ipython",
    "version": 3
   },
   "file_extension": ".py",
   "mimetype": "text/x-python",
   "name": "python",
   "nbconvert_exporter": "python",
   "pygments_lexer": "ipython3",
   "version": "3.12.6"
  }
 },
 "nbformat": 4,
 "nbformat_minor": 2
}
