{
 "cells": [
  {
   "cell_type": "markdown",
   "metadata": {},
   "source": [
    "# Criando e Manipulando Vetores"
   ]
  },
  {
   "cell_type": "code",
   "execution_count": 7,
   "metadata": {},
   "outputs": [
    {
     "name": "stdout",
     "output_type": "stream",
     "text": [
      "Antes: [20 29  9 40 46  9  1 11  6 49]\n",
      "Após: [49 -1 11  1  9 -1 -1  9 29 -1]\n"
     ]
    }
   ],
   "source": [
    "# Crie um vetor de tamanho 10 com valores aleatórios entre 0 e 50, e então substitua todos os valores pares por -1 e inverta a ordem dos elementos.\n",
    "import numpy as np\n",
    "# Criando o vetor\n",
    "vetor = np.random.randint(0,50,10)\n",
    "print(f\"Antes: {vetor}\")\n",
    "\n",
    "# Fazendo a substituição\n",
    "vetor_t = np.where(vetor % 2 == 0, -1, vetor)\n",
    "vetor_t = vetor_t[::-1]\n",
    "print(f\"Após: {vetor_t}\")"
   ]
  }
 ],
 "metadata": {
  "kernelspec": {
   "display_name": "Python 3",
   "language": "python",
   "name": "python3"
  },
  "language_info": {
   "codemirror_mode": {
    "name": "ipython",
    "version": 3
   },
   "file_extension": ".py",
   "mimetype": "text/x-python",
   "name": "python",
   "nbconvert_exporter": "python",
   "pygments_lexer": "ipython3",
   "version": "3.12.6"
  }
 },
 "nbformat": 4,
 "nbformat_minor": 2
}
