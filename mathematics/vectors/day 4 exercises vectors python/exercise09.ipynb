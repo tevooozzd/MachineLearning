{
 "cells": [
  {
   "cell_type": "markdown",
   "metadata": {},
   "source": [
    "# Vetores transpostos 4"
   ]
  },
  {
   "cell_type": "code",
   "execution_count": null,
   "metadata": {},
   "outputs": [
    {
     "name": "stdout",
     "output_type": "stream",
     "text": [
      "Antes:\n",
      " [[1]\n",
      " [2]\n",
      " [3]\n",
      " [4]\n",
      " [5]\n",
      " [6]]\n",
      "\n",
      "Apos:\n",
      " [[1 2 3 4 5 6]]\n"
     ]
    }
   ],
   "source": [
    "# Crie uma vetor 6x1 (linhas) e transforme em um vetor 1x6 (colunas)\n",
    "import numpy as np\n",
    "# Criando o vetor \n",
    "vetor = np.array([[1], [2], [3], [4], [5], [6]])\n",
    "print(f\"Antes:\\n {vetor}\")\n",
    "\n",
    "# Transpondo ele\n",
    "vetor_t = vetor.T\n",
    "print(f\"\\nApos:\\n {vetor_t}\")\n"
   ]
  }
 ],
 "metadata": {
  "kernelspec": {
   "display_name": "Python 3",
   "language": "python",
   "name": "python3"
  },
  "language_info": {
   "codemirror_mode": {
    "name": "ipython",
    "version": 3
   },
   "file_extension": ".py",
   "mimetype": "text/x-python",
   "name": "python",
   "nbconvert_exporter": "python",
   "pygments_lexer": "ipython3",
   "version": "3.12.6"
  }
 },
 "nbformat": 4,
 "nbformat_minor": 2
}
