{
 "cells": [
  {
   "cell_type": "markdown",
   "metadata": {},
   "source": [
    "# Manipulação de vetores"
   ]
  },
  {
   "cell_type": "code",
   "execution_count": 6,
   "metadata": {},
   "outputs": [
    {
     "name": "stdout",
     "output_type": "stream",
     "text": [
      "Vetor antes:\n",
      "[40 85  8 26 60 71 64 69 71  8]\n",
      "Após:\n",
      "[ 0  0  0  0  0  0 69 71 71 85]\n"
     ]
    }
   ],
   "source": [
    "# Crie um vetor de 0 a 100, substitua os pares por 0 e ordene em ordem crescente\n",
    "\n",
    "# Criando o vetor\n",
    "import numpy as np\n",
    "vetor = np.random.randint(0,100,10)\n",
    "print(f\"Vetor antes:\\n{vetor}\")\n",
    "\n",
    "# Manipulando\n",
    "vetor = np.where(vetor % 2 == 0, 0, vetor)\n",
    "vetor.sort()\n",
    "print(f\"Após:\\n{vetor}\")\n"
   ]
  }
 ],
 "metadata": {
  "kernelspec": {
   "display_name": "Python 3",
   "language": "python",
   "name": "python3"
  },
  "language_info": {
   "codemirror_mode": {
    "name": "ipython",
    "version": 3
   },
   "file_extension": ".py",
   "mimetype": "text/x-python",
   "name": "python",
   "nbconvert_exporter": "python",
   "pygments_lexer": "ipython3",
   "version": "3.12.6"
  }
 },
 "nbformat": 4,
 "nbformat_minor": 2
}
