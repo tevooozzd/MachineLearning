{
 "cells": [
  {
   "cell_type": "markdown",
   "metadata": {},
   "source": [
    "# Vetores transpostos"
   ]
  },
  {
   "cell_type": "code",
   "execution_count": 4,
   "metadata": {},
   "outputs": [
    {
     "name": "stdout",
     "output_type": "stream",
     "text": [
      "Antes:\n",
      " [[1]\n",
      " [2]\n",
      " [3]\n",
      " [4]]\n",
      "\n",
      "Após:\n",
      " [[1 2 3 4]]\n"
     ]
    }
   ],
   "source": [
    "# Crie um vetor de tamanho 4, transforme-o em um vetor transposto e calcule a soma do vetor original com a sua transposta (a transposta será uma matriz 1x4).\n",
    "import numpy as np\n",
    "# Criando o vetor (4x1) 0> 4 linhas / 1 coluna\n",
    "vetor = np.array([[1], [2], [3], [4]])\n",
    "print(f\"Antes:\\n {vetor}\")\n",
    "\n",
    "# Transpondo o vetor \n",
    "vetor_t = vetor.T\n",
    "print(f\"\\nApós:\\n {vetor_t}\")\n"
   ]
  }
 ],
 "metadata": {
  "kernelspec": {
   "display_name": "Python 3",
   "language": "python",
   "name": "python3"
  },
  "language_info": {
   "codemirror_mode": {
    "name": "ipython",
    "version": 3
   },
   "file_extension": ".py",
   "mimetype": "text/x-python",
   "name": "python",
   "nbconvert_exporter": "python",
   "pygments_lexer": "ipython3",
   "version": "3.12.6"
  }
 },
 "nbformat": 4,
 "nbformat_minor": 2
}
