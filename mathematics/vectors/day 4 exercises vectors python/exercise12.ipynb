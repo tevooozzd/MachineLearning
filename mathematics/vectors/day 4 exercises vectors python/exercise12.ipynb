{
 "cells": [
  {
   "cell_type": "markdown",
   "metadata": {},
   "source": [
    "# Vetores reshape 3"
   ]
  },
  {
   "cell_type": "code",
   "execution_count": 1,
   "metadata": {},
   "outputs": [
    {
     "name": "stdout",
     "output_type": "stream",
     "text": [
      "Antes:\n",
      " [2 3 9 7 2 9 9 5 7 8 1 3]\n",
      "Após:\n",
      " [[2 3 9 7]\n",
      " [2 9 9 5]\n",
      " [7 8 1 3]]\n"
     ]
    }
   ],
   "source": [
    "# Crie um vetor de tamanho 12 com valores aleatórios. Transforme-o em uma matriz 3x4 e depois transforme essa matriz de volta em um vetor.\n",
    "\n",
    "\n",
    "import numpy as np\n",
    " \n",
    "# Criando o vetor (1x12)\n",
    "vetor = np.random.randint(1,10,12)\n",
    "print(f\"Antes:\\n {vetor}\")\n",
    "\n",
    "# Reshape no vetor (3x4)\n",
    "vetor = vetor.reshape(3,4) # Os valores de reshape tem que ser linha x coluna = quantidade de elementos, caso contrario vai dar errado!\n",
    "print(f\"Após:\\n {vetor}\")"
   ]
  }
 ],
 "metadata": {
  "kernelspec": {
   "display_name": "Python 3",
   "language": "python",
   "name": "python3"
  },
  "language_info": {
   "codemirror_mode": {
    "name": "ipython",
    "version": 3
   },
   "file_extension": ".py",
   "mimetype": "text/x-python",
   "name": "python",
   "nbconvert_exporter": "python",
   "pygments_lexer": "ipython3",
   "version": "3.12.6"
  }
 },
 "nbformat": 4,
 "nbformat_minor": 2
}
