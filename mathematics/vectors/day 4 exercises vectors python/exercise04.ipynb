{
 "cells": [
  {
   "cell_type": "markdown",
   "metadata": {},
   "source": [
    "# Indexação E Slicing"
   ]
  },
  {
   "cell_type": "code",
   "execution_count": 7,
   "metadata": {},
   "outputs": [
    {
     "name": "stdout",
     "output_type": "stream",
     "text": [
      "Antes: [47 24 41 42 38]\n",
      "Os subvetores de 5-15 são: [38 37 43  4 30 17 24 40 26 18 33]\n",
      "Index 10 do vetor agora é: 100\n"
     ]
    }
   ],
   "source": [
    "#  Crie um vetor v de tamanho 20, printe o subvetor do index 5 até 0 15, acesso o valor do index 10 e altere para 100\n",
    "import numpy as np\n",
    "vetor = np.random.randint(0,50,20)\n",
    "print(f\"Antes: {vetor[:5]}\")\n",
    "\n",
    "# Indexação e slicing\n",
    "print(f\"Os subvetores de 5-15 são: {vetor[4:15]}\")\n",
    "vetor[10] = 100\n",
    "print(f\"Index 10 do vetor agora é: {vetor[10]}\")"
   ]
  },
  {
   "cell_type": "code",
   "execution_count": null,
   "metadata": {},
   "outputs": [],
   "source": []
  }
 ],
 "metadata": {
  "kernelspec": {
   "display_name": "Python 3",
   "language": "python",
   "name": "python3"
  },
  "language_info": {
   "codemirror_mode": {
    "name": "ipython",
    "version": 3
   },
   "file_extension": ".py",
   "mimetype": "text/x-python",
   "name": "python",
   "nbconvert_exporter": "python",
   "pygments_lexer": "ipython3",
   "version": "3.12.6"
  }
 },
 "nbformat": 4,
 "nbformat_minor": 2
}
