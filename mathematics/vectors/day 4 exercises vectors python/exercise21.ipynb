{
 "cells": [
  {
   "cell_type": "markdown",
   "metadata": {},
   "source": [
    "# Inverter um vetor"
   ]
  },
  {
   "cell_type": "code",
   "execution_count": 3,
   "metadata": {},
   "outputs": [
    {
     "name": "stdout",
     "output_type": "stream",
     "text": [
      "Antes da reogarnização:\n",
      "[7 5 8 8 5 4 2 3 5 4 8 7 6 7 5]\n",
      "\n",
      "Após a reorganização:\n",
      "[2 3 4 4 5 5 5 5 6 7 7 7 8 8 8]\n"
     ]
    }
   ],
   "source": [
    "# Criar um vetor de tamanho 15 e reordená-lo em ordem crescente e decrescente.\n",
    "\n",
    "import numpy as np\n",
    "\n",
    "# Criando o vetor\n",
    "vetor = np.random.randint(1,10,15)\n",
    "print(f\"Antes da reogarnização:\\n{vetor}\")\n",
    "\n",
    "# Reogarnizando o vetor\n",
    "vetor = np.sort(vetor)\n",
    "print(f\"\\nApós a reorganização:\\n{vetor}\")"
   ]
  }
 ],
 "metadata": {
  "kernelspec": {
   "display_name": "Python 3",
   "language": "python",
   "name": "python3"
  },
  "language_info": {
   "codemirror_mode": {
    "name": "ipython",
    "version": 3
   },
   "file_extension": ".py",
   "mimetype": "text/x-python",
   "name": "python",
   "nbconvert_exporter": "python",
   "pygments_lexer": "ipython3",
   "version": "3.12.6"
  }
 },
 "nbformat": 4,
 "nbformat_minor": 2
}
