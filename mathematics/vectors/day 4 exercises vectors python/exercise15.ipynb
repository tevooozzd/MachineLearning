{
 "cells": [
  {
   "cell_type": "markdown",
   "metadata": {},
   "source": [
    "# Vetores concatenados 4"
   ]
  },
  {
   "cell_type": "code",
   "execution_count": 3,
   "metadata": {},
   "outputs": [
    {
     "name": "stdout",
     "output_type": "stream",
     "text": [
      "Antes vetor 1:\n",
      "[6 5 6 6 4]\n",
      "Antes vetor 2:\n",
      "[2 5 3 3 6]\n",
      "\n",
      "Após concatenar verticalmente: [6 5 6 6 4 6 5 6 6 4]\n"
     ]
    }
   ],
   "source": [
    "# Crie dois vetores 1D e empilhe-os horizontalmente para formar uma única linha\n",
    "\n",
    "# Criando os vetores\n",
    "import numpy as np\n",
    "vetor1 = np.random.randint(1,10,5)\n",
    "vetor2 = np.random.randint(1,10,5)\n",
    "print(f\"Antes vetor 1:\\n{vetor1}\") \n",
    "print(f\"Antes vetor 2:\\n{vetor2}\")  \n",
    "\n",
    "\n",
    "# Concatenando eles horizontalmente \n",
    "\n",
    "vetor_concatenado = np.hstack((vetor1, vetor1))\n",
    "print(f\"\\nApós concatenar verticalmente: {vetor_concatenado}\")"
   ]
  }
 ],
 "metadata": {
  "kernelspec": {
   "display_name": "Python 3",
   "language": "python",
   "name": "python3"
  },
  "language_info": {
   "codemirror_mode": {
    "name": "ipython",
    "version": 3
   },
   "file_extension": ".py",
   "mimetype": "text/x-python",
   "name": "python",
   "nbconvert_exporter": "python",
   "pygments_lexer": "ipython3",
   "version": "3.12.6"
  }
 },
 "nbformat": 4,
 "nbformat_minor": 2
}
