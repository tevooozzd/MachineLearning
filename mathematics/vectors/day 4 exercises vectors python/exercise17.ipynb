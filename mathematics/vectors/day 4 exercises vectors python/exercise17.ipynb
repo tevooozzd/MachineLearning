{
 "cells": [
  {
   "cell_type": "markdown",
   "metadata": {},
   "source": [
    "# Máscaras e Filtros"
   ]
  },
  {
   "cell_type": "code",
   "execution_count": 5,
   "metadata": {},
   "outputs": [
    {
     "name": "stdout",
     "output_type": "stream",
     "text": [
      "Antes:\n",
      "[-35 -33 -49  17  13  -3  16 -24  -6 -36  52  43  56 -31  16]\n",
      "Após números negativo igual a 0:\n",
      "[ 0  0  0 17 13  0 16  0  0  0 52 43 56  0 16]\n",
      "Após máscara de positivos e maiores que 25: [52 56]\n"
     ]
    }
   ],
   "source": [
    "# Crie um vetor entre -50 até 100 e pegue os numeros positivos, valores negativos viram 0 e conte quanto são maiores que 25\n",
    "\n",
    "import numpy as np\n",
    "\n",
    "# Criando o vetor\n",
    "vetor = np.random.randint(-50,70,15)\n",
    "print(f\"Antes:\\n{vetor}\")\n",
    "\n",
    "# Pegando números positivos e maiores que 25\n",
    "mascara = (vetor % 2 == 0) & (vetor > 25)\n",
    "# Trocando negativos por 0\n",
    "vetor_b = np.where(vetor < 0, 0, vetor)\n",
    "print(f\"Após números negativo igual a 0:\\n{vetor_b}\")\n",
    "# Printando\n",
    "print(f\"Após máscara de positivos e maiores que 25: {vetor[mascara]}\")"
   ]
  }
 ],
 "metadata": {
  "kernelspec": {
   "display_name": "Python 3",
   "language": "python",
   "name": "python3"
  },
  "language_info": {
   "codemirror_mode": {
    "name": "ipython",
    "version": 3
   },
   "file_extension": ".py",
   "mimetype": "text/x-python",
   "name": "python",
   "nbconvert_exporter": "python",
   "pygments_lexer": "ipython3",
   "version": "3.12.6"
  }
 },
 "nbformat": 4,
 "nbformat_minor": 2
}
