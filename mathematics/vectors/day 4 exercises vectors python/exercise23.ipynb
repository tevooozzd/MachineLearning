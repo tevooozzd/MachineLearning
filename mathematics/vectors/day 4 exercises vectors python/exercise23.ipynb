{
 "cells": [
  {
   "cell_type": "markdown",
   "metadata": {},
   "source": [
    "# Produto escalar"
   ]
  },
  {
   "cell_type": "code",
   "execution_count": 2,
   "metadata": {},
   "outputs": [
    {
     "name": "stdout",
     "output_type": "stream",
     "text": [
      "Antes da reorganização:\n",
      "VetorA:[3 3 5 3 6]\n",
      "VetorB:[8 2 4 9 4]\n",
      "Produto escalar dos dois vetores: 101\n"
     ]
    }
   ],
   "source": [
    "#  Crie dois vetores de tamanho 5 com valores aleatórios entre 1 e 10 e calcule o produto escalar entre eles.\n",
    "\n",
    "import numpy as np\n",
    "\n",
    "# Criando os vetores\n",
    "vetorA = np.random.randint(1,10,5)\n",
    "vetorB = np.random.randint(1,10,5)\n",
    "print(f\"Antes da reorganização:\\nVetorA:{vetorA}\\nVetorB:{vetorB}\")\n",
    "\n",
    "# Produto escalar\n",
    "produto_escalar = np.dot(vetorA, vetorB)\n",
    "print(f\"Produto escalar dos dois vetores: {produto_escalar}\")"
   ]
  }
 ],
 "metadata": {
  "kernelspec": {
   "display_name": "Python 3",
   "language": "python",
   "name": "python3"
  },
  "language_info": {
   "codemirror_mode": {
    "name": "ipython",
    "version": 3
   },
   "file_extension": ".py",
   "mimetype": "text/x-python",
   "name": "python",
   "nbconvert_exporter": "python",
   "pygments_lexer": "ipython3",
   "version": "3.12.6"
  }
 },
 "nbformat": 4,
 "nbformat_minor": 2
}
