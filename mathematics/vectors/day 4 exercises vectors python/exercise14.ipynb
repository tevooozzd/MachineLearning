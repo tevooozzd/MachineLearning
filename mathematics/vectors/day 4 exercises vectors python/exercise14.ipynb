{
 "cells": [
  {
   "cell_type": "markdown",
   "metadata": {},
   "source": [
    "# Vetores concatenados 2"
   ]
  },
  {
   "cell_type": "code",
   "execution_count": 3,
   "metadata": {},
   "outputs": [
    {
     "name": "stdout",
     "output_type": "stream",
     "text": [
      "Antes vetor 1:\n",
      "[8 1 4 6 1]\n",
      "Antes vetor 2:\n",
      "[6 4 8 8 1]\n",
      "\n",
      "Novo vetor concatenado verticalmente:\n",
      " [[8 1 4 6 1]\n",
      " [6 4 8 8 1]]\n"
     ]
    }
   ],
   "source": [
    "# Crie dois vetores 1D e empilhe-os verticalmente para formar uma matriz 2D.\n",
    "\n",
    "# Criando os vetores\n",
    "import numpy as np\n",
    "vetor1 = np.random.randint(1,10,5)\n",
    "vetor2 = np.random.randint(1,10,5)\n",
    "print(f\"Antes vetor 1:\\n{vetor1}\")\n",
    "print(f\"Antes vetor 2:\\n{vetor2}\")\n",
    "\n",
    "\n",
    "# Concatenando verticalmente\n",
    "vetor_concatenado = np.vstack((vetor1, vetor2))\n",
    "print(f\"\\nNovo vetor concatenado verticalmente:\\n {vetor_concatenado}\")"
   ]
  }
 ],
 "metadata": {
  "kernelspec": {
   "display_name": "Python 3",
   "language": "python",
   "name": "python3"
  },
  "language_info": {
   "codemirror_mode": {
    "name": "ipython",
    "version": 3
   },
   "file_extension": ".py",
   "mimetype": "text/x-python",
   "name": "python",
   "nbconvert_exporter": "python",
   "pygments_lexer": "ipython3",
   "version": "3.12.6"
  }
 },
 "nbformat": 4,
 "nbformat_minor": 2
}
