{
 "cells": [
  {
   "cell_type": "markdown",
   "metadata": {},
   "source": [
    "# Produto escalar 3"
   ]
  },
  {
   "cell_type": "code",
   "execution_count": 4,
   "metadata": {},
   "outputs": [
    {
     "name": "stdout",
     "output_type": "stream",
     "text": [
      "Vetores\n",
      "VetorA:[4 5 5]\n",
      "VetorB:[4 6 5]\n",
      "Os vetores não são ortogonais!\n"
     ]
    }
   ],
   "source": [
    "# Crie dois vetores de tamanho 3 e verifique se são ortogonais.\n",
    "\n",
    "import numpy as np\n",
    "\n",
    "# Criando os vetores\n",
    "vetorA = np.random.randint(1,10,3)\n",
    "vetorB = np.random.randint(1,10,3)\n",
    "print(f\"Vetores\\nVetorA:{vetorA}\\nVetorB:{vetorB}\")\n",
    "\n",
    "# Calculando o produto escalar\n",
    "produto_escalar = np.dot(vetorA, vetorB)\n",
    "if produto_escalar == 0:\n",
    "    print(\"Os vetores são ortogonais!\")\n",
    "else:\n",
    "    print(\"Os vetores não são ortogonais!\")"
   ]
  }
 ],
 "metadata": {
  "kernelspec": {
   "display_name": "Python 3",
   "language": "python",
   "name": "python3"
  },
  "language_info": {
   "codemirror_mode": {
    "name": "ipython",
    "version": 3
   },
   "file_extension": ".py",
   "mimetype": "text/x-python",
   "name": "python",
   "nbconvert_exporter": "python",
   "pygments_lexer": "ipython3",
   "version": "3.12.6"
  }
 },
 "nbformat": 4,
 "nbformat_minor": 2
}
