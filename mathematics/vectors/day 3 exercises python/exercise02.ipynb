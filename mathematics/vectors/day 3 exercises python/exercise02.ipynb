{
 "cells": [
  {
   "cell_type": "code",
   "execution_count": 1,
   "metadata": {},
   "outputs": [
    {
     "name": "stdout",
     "output_type": "stream",
     "text": [
      "Coluna 0 com os números 1 + 11 possui o valor de 12\n",
      "Coluna 1 com os números 2 + 12 possui o valor de 14\n",
      "Coluna 2 com os números 3 + 13 possui o valor de 16\n",
      "Coluna 3 com os números 4 + 14 possui o valor de 18\n"
     ]
    }
   ],
   "source": [
    "# Crie dois vetores e some cada coluna deles\n",
    "\n",
    "import numpy as np\n",
    "vetor_um = np.array([1,2,3,4])\n",
    "vetor_dois = np.array([11,12,13,14])\n",
    "for x in range(4):\n",
    "    print(f\"Coluna {x} com os números {vetor_um[x]} + {vetor_dois[x]} possui o valor de {vetor_um[x] + vetor_dois[x]}\") "
   ]
  }
 ],
 "metadata": {
  "kernelspec": {
   "display_name": "Python 3",
   "language": "python",
   "name": "python3"
  },
  "language_info": {
   "codemirror_mode": {
    "name": "ipython",
    "version": 3
   },
   "file_extension": ".py",
   "mimetype": "text/x-python",
   "name": "python",
   "nbconvert_exporter": "python",
   "pygments_lexer": "ipython3",
   "version": "3.12.6"
  }
 },
 "nbformat": 4,
 "nbformat_minor": 2
}
