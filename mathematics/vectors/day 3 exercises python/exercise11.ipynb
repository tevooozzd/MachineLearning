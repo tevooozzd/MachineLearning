{
 "cells": [
  {
   "cell_type": "markdown",
   "metadata": {},
   "source": [
    "# Alterando valores com base em uma sequência"
   ]
  },
  {
   "cell_type": "code",
   "execution_count": 10,
   "metadata": {},
   "outputs": [
    {
     "name": "stdout",
     "output_type": "stream",
     "text": [
      "Vetor antes: [21 17  3 15 13 93 81 29  7 70 49 66  5 69 24 42  6 22 59 81 98 22  9 38\n",
      " 94]\n",
      "Vetor após máscara: [ 1 17  1  1 13  1  1 29  7 -1 49 -1  5  1 -1 -1 -1 -1 59  1 -1 -1  1 -1\n",
      " -1]\n"
     ]
    }
   ],
   "source": [
    "# Crie um vetor de 25 números aleatórios entre 1 e 100. Alterar todos os números que são múltiplos de 2 para -1 e todos os múltiplos de 3 para 1.\n",
    "\n",
    "import numpy as np\n",
    "\n",
    "# Criando o vetor\n",
    "vetor = np.random.randint(1,100, 25)\n",
    "print(f\"Vetor antes: {vetor}\")\n",
    "\n",
    "#Criando a máscara\n",
    "vetor = np.where(vetor % 2 == 0, -1, vetor)  \n",
    "vetor = np.where(vetor % 3 == 0, 1, vetor)   \n",
    "print(f\"Vetor após máscara: {vetor}\")"
   ]
  }
 ],
 "metadata": {
  "kernelspec": {
   "display_name": "Python 3",
   "language": "python",
   "name": "python3"
  },
  "language_info": {
   "codemirror_mode": {
    "name": "ipython",
    "version": 3
   },
   "file_extension": ".py",
   "mimetype": "text/x-python",
   "name": "python",
   "nbconvert_exporter": "python",
   "pygments_lexer": "ipython3",
   "version": "3.12.6"
  }
 },
 "nbformat": 4,
 "nbformat_minor": 2
}
