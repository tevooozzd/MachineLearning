{
 "cells": [
  {
   "cell_type": "code",
   "execution_count": 9,
   "metadata": {},
   "outputs": [
    {
     "name": "stdout",
     "output_type": "stream",
     "text": [
      "O vetor é: [43  3 12  4 46 68 39 32 67 96 72 33 77 57 32 37 77 69 25 76]\n",
      "A média é de: 48.25\n",
      "A quantidade de valores que estão acima da média é/são de: 9, e eles são: [ 5  8  9 10 12 13 16 17 19]\n",
      "O novo vetor com os valores abaixo da média são [ 0  0  0  0  0 68  0  0 67 96 72  0 77 57  0  0 77 69  0 76]\n"
     ]
    }
   ],
   "source": [
    "# Calcule a média de um vetor e obtenha os índices dos elementos que estão acima da média.\n",
    "import numpy as np\n",
    "\n",
    "# Criando o vetor com números aleatórios de 1-101, 20 elementos\n",
    "vetor = np.random.randint(1,101, 20)\n",
    "print(f\"O vetor é: {vetor}\")\n",
    "# Calculando a média com o .mean do numpy\n",
    "media = np.mean(vetor)\n",
    "print(f\"A média é de: {media}\")\n",
    "\n",
    "# Procurando os valores aonde sejam acima da média\n",
    "acima_media = np.where(vetor > media)[0]\n",
    "print(f\"A quantidade de valores que estão acima da média é/são de: {len(acima_media)}, e eles são: {acima_media}\")\n",
    "\n",
    "# Transformando os valores abaixo da média em 0\n",
    "vetor[vetor < media] = 0\n",
    "print(f\"O novo vetor com os valores abaixo da média são {vetor}\")"
   ]
  }
 ],
 "metadata": {
  "kernelspec": {
   "display_name": "Python 3",
   "language": "python",
   "name": "python3"
  },
  "language_info": {
   "codemirror_mode": {
    "name": "ipython",
    "version": 3
   },
   "file_extension": ".py",
   "mimetype": "text/x-python",
   "name": "python",
   "nbconvert_exporter": "python",
   "pygments_lexer": "ipython3",
   "version": "3.12.6"
  }
 },
 "nbformat": 4,
 "nbformat_minor": 2
}
