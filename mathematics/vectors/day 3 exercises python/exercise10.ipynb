{
 "cells": [
  {
   "cell_type": "markdown",
   "metadata": {},
   "source": [
    "# Transformação com Máscaras e where()"
   ]
  },
  {
   "cell_type": "code",
   "execution_count": 6,
   "metadata": {},
   "outputs": [
    {
     "name": "stdout",
     "output_type": "stream",
     "text": [
      "Vetor antes da máscara de pares e ímpares: [26 52 62 51 82 97 40 33 66 56 71 54 69 49 39]\n",
      "O vetor após as máscaras de pares e ímpares é: [0 0 0 1 0 1 0 1 0 0 1 0 1 1 1]\n"
     ]
    }
   ],
   "source": [
    "# Dado um vetor de 15 números aleatórios entre 1 e 100, transforme todos os números pares em 0 e os ímpares em 1.\n",
    "\n",
    "import numpy as np\n",
    "\n",
    "# Criando o vetor\n",
    "vetor = np.random.randint(1,100, 15)\n",
    "print(f\"Vetor antes da máscara de pares e ímpares: {vetor}\")\n",
    "\n",
    "# Criando a máscara\n",
    "mascara = np.where(vetor % 2 == 0,  0, 1)\n",
    "print(f\"O vetor após as máscaras de pares e ímpares é: {mascara}\")"
   ]
  }
 ],
 "metadata": {
  "kernelspec": {
   "display_name": "Python 3",
   "language": "python",
   "name": "python3"
  },
  "language_info": {
   "codemirror_mode": {
    "name": "ipython",
    "version": 3
   },
   "file_extension": ".py",
   "mimetype": "text/x-python",
   "name": "python",
   "nbconvert_exporter": "python",
   "pygments_lexer": "ipython3",
   "version": "3.12.6"
  }
 },
 "nbformat": 4,
 "nbformat_minor": 2
}
