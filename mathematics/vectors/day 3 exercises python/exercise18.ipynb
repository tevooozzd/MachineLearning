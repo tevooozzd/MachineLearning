{
 "cells": [
  {
   "cell_type": "markdown",
   "metadata": {},
   "source": [
    "# Filtragem de dado"
   ]
  },
  {
   "cell_type": "code",
   "execution_count": 1,
   "metadata": {},
   "outputs": [
    {
     "name": "stdout",
     "output_type": "stream",
     "text": [
      "Antes [ 49  41  57  56  10  91  29  34  83  93  71  81  16 104  42]\n",
      "Apos: [49 56 91 42]\n"
     ]
    }
   ],
   "source": [
    "# Crie um vetor de 40 números aleatórios entre 10 e 200 e filtre todos os números que são divisíveis por 7.\n",
    "import numpy as np\n",
    "# Criando vetor\n",
    "vetor = np.random.randint(1,150, 15)\n",
    "print(f\"Antes {vetor}\")\n",
    "\n",
    "# Criando a máscra\n",
    "mascara = vetor % 7 == 0\n",
    "print(f\"Apos: {vetor[mascara]}\")"
   ]
  }
 ],
 "metadata": {
  "kernelspec": {
   "display_name": "Python 3",
   "language": "python",
   "name": "python3"
  },
  "language_info": {
   "codemirror_mode": {
    "name": "ipython",
    "version": 3
   },
   "file_extension": ".py",
   "mimetype": "text/x-python",
   "name": "python",
   "nbconvert_exporter": "python",
   "pygments_lexer": "ipython3",
   "version": "3.12.6"
  }
 },
 "nbformat": 4,
 "nbformat_minor": 2
}
