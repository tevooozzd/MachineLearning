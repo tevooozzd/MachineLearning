{
 "cells": [
  {
   "cell_type": "markdown",
   "metadata": {},
   "source": [
    "# Condição em múltiplas variáveis 3"
   ]
  },
  {
   "cell_type": "code",
   "execution_count": 5,
   "metadata": {},
   "outputs": [
    {
     "name": "stdout",
     "output_type": "stream",
     "text": [
      "Antes [ 56  44 108 103  31 106 138  99  30 141 130  42 136 143  21]\n",
      "Apos: ['Meio' 'Meio' '108' '103' '31' '106' '138' '99' '30' '141' '130' 'Meio'\n",
      " '136' '143' '21']\n"
     ]
    }
   ],
   "source": [
    "# Troque todos os números entre 40 e 60 (inclusive) por \"Meio\".\n",
    "\n",
    "import numpy as np\n",
    "# Criando vetor\n",
    "vetor = np.random.randint(1,150, 15)\n",
    "print(f\"Antes {vetor}\")\n",
    "\n",
    "# Criando a máscra\n",
    "mascara = np.where((vetor >= 40) & (vetor <= 60), \"Meio\", vetor)\n",
    "print(f\"Apos: {mascara}\")"
   ]
  }
 ],
 "metadata": {
  "kernelspec": {
   "display_name": "Python 3",
   "language": "python",
   "name": "python3"
  },
  "language_info": {
   "codemirror_mode": {
    "name": "ipython",
    "version": 3
   },
   "file_extension": ".py",
   "mimetype": "text/x-python",
   "name": "python",
   "nbconvert_exporter": "python",
   "pygments_lexer": "ipython3",
   "version": "3.12.6"
  }
 },
 "nbformat": 4,
 "nbformat_minor": 2
}
