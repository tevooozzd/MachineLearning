{
 "cells": [
  {
   "cell_type": "markdown",
   "metadata": {},
   "source": [
    "#  Substituição de valores com base em uma condição\n",
    "\n"
   ]
  },
  {
   "cell_type": "code",
   "execution_count": 12,
   "metadata": {},
   "outputs": [
    {
     "name": "stdout",
     "output_type": "stream",
     "text": [
      "Antes [53 31 21 21 78 18 32 44 59 14 43 25 36 65 59 21 82 30 50 77]\n",
      "Apos: [ 53  31  21  21  78   0  32  44  59   0  43  25  36  65  59  21 100  30\n",
      "  50  77]\n"
     ]
    }
   ],
   "source": [
    "# Troque todos os números menores que 20 por 0 e todos os números maiores que 80 por 100.\n",
    "\n",
    "import numpy as np\n",
    "# Criando vetor\n",
    "vetor = np.random.randint(1,100, 20)\n",
    "print(f\"Antes {vetor}\")\n",
    "\n",
    "# Criando máscara\n",
    "vetor_mascara = np.where(vetor < 20, 0, np.where(vetor > 80, 100, vetor)) \n",
    "print(f\"Apos: {vetor_mascara}\")"
   ]
  },
  {
   "cell_type": "code",
   "execution_count": null,
   "metadata": {},
   "outputs": [],
   "source": []
  }
 ],
 "metadata": {
  "kernelspec": {
   "display_name": "Python 3",
   "language": "python",
   "name": "python3"
  },
  "language_info": {
   "codemirror_mode": {
    "name": "ipython",
    "version": 3
   },
   "file_extension": ".py",
   "mimetype": "text/x-python",
   "name": "python",
   "nbconvert_exporter": "python",
   "pygments_lexer": "ipython3",
   "version": "3.12.6"
  }
 },
 "nbformat": 4,
 "nbformat_minor": 2
}
