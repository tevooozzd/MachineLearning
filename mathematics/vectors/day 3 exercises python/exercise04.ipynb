{
 "cells": [
  {
   "cell_type": "code",
   "execution_count": 4,
   "metadata": {},
   "outputs": [
    {
     "name": "stdout",
     "output_type": "stream",
     "text": [
      "Antes de filtrar os múltiplos de 3, o vetor é de [12 15  5 20 82 26 63 11 94 55 79 90 27 74 36 94 35  5 13 61]\n",
      "Apos filtrar os múltiplos de 3, o novo vetor é de [ 0  0  5 20 82 26  0 11 94 55 79  0  0 74  0 94 35  5 13 61]\n"
     ]
    }
   ],
   "source": [
    "# Crie um vetor com 20 elementos e troce o valor de todos os elementos que sejam multiplos de 3 por 0\n",
    "\n",
    "import numpy as np\n",
    "vetor = np.random.randint(1, 101, 20)\n",
    "print(f\"Antes de filtrar os múltiplos de 3, o vetor é de {vetor}\")\n",
    "for x in range(20):\n",
    "    if vetor[x] % 3 == 0:\n",
    "        vetor[x] = 0\n",
    "print(f\"Apos filtrar os múltiplos de 3, o novo vetor é de {vetor}\")"
   ]
  },
  {
   "cell_type": "code",
   "execution_count": 5,
   "metadata": {},
   "outputs": [
    {
     "name": "stdout",
     "output_type": "stream",
     "text": [
      "A soma dos números pares é de 390\n"
     ]
    }
   ],
   "source": [
    "# Soma dos números pares\n",
    "soma = 0\n",
    "for x in range(20):\n",
    "    if vetor[x] % 2 == 0:\n",
    "        soma += vetor[x]\n",
    "print(f\"A soma dos números pares é de {soma}\")"
   ]
  }
 ],
 "metadata": {
  "kernelspec": {
   "display_name": "Python 3",
   "language": "python",
   "name": "python3"
  },
  "language_info": {
   "codemirror_mode": {
    "name": "ipython",
    "version": 3
   },
   "file_extension": ".py",
   "mimetype": "text/x-python",
   "name": "python",
   "nbconvert_exporter": "python",
   "pygments_lexer": "ipython3",
   "version": "3.12.6"
  }
 },
 "nbformat": 4,
 "nbformat_minor": 2
}
