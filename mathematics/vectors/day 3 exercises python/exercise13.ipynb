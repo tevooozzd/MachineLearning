{
 "cells": [
  {
   "cell_type": "markdown",
   "metadata": {},
   "source": [
    "# Condição em múltiplas variáveis"
   ]
  },
  {
   "cell_type": "code",
   "execution_count": 8,
   "metadata": {},
   "outputs": [
    {
     "name": "stdout",
     "output_type": "stream",
     "text": [
      "Antes [ 35  37 105  39 128 102  69  41  62  14  83  60  79  47  33]\n",
      "Apos: ['Alto' 'Alto' 'Gigante' 'Alto' 'Gigante' 'Gigante' 'Alto' 'Alto' 'Alto'\n",
      " 'Medio' 'Alto' 'Alto' 'Alto' 'Alto' 'Alto']\n"
     ]
    }
   ],
   "source": [
    "# Crie um vetor de 15 números aleatórios entre 0 e 50. Substitua todos os números menores que 10 por \"Baixo\", entre 10 e 30 por \"Médio\" e maiores que 30 por \"Alto\".\n",
    "\n",
    "import numpy as np\n",
    "# Criando vetor\n",
    "vetor = np.random.randint(1,150, 15)\n",
    "print(f\"Antes {vetor}\")\n",
    "\n",
    "# Criando máscara\n",
    "vetor_mascara = np.where(vetor < 10, \"Baixo\", \n",
    "                         np.where( (vetor >= 10) & (vetor <= 30),\"Medio\",\n",
    "                         np.where( (vetor > 30) & (vetor < 100), \"Alto\", \"Gigante\")))\n",
    "print(f\"Apos: {vetor_mascara}\")"
   ]
  }
 ],
 "metadata": {
  "kernelspec": {
   "display_name": "Python 3",
   "language": "python",
   "name": "python3"
  },
  "language_info": {
   "codemirror_mode": {
    "name": "ipython",
    "version": 3
   },
   "file_extension": ".py",
   "mimetype": "text/x-python",
   "name": "python",
   "nbconvert_exporter": "python",
   "pygments_lexer": "ipython3",
   "version": "3.12.6"
  }
 },
 "nbformat": 4,
 "nbformat_minor": 2
}
