{
 "cells": [
  {
   "cell_type": "markdown",
   "metadata": {},
   "source": [
    "# Vetores de Valores Distintos"
   ]
  },
  {
   "cell_type": "code",
   "execution_count": 3,
   "metadata": {},
   "outputs": [
    {
     "name": "stdout",
     "output_type": "stream",
     "text": [
      "Antes: [ 4 28 14 18 22 15 25 15 12 26 12 19  8 11  8]\n",
      "Existem valores repetidos\n"
     ]
    }
   ],
   "source": [
    "# Crie um vetor de 15 elementos aleatórios entre 1 e 30 e faça com que todos os valores repetidos no vetor sejam substituídos pelo valor 0.\n",
    "\n",
    "import numpy as np\n",
    "# Criando o vetor\n",
    "vetor = np.random.randint(1,30, 15)\n",
    "print(f\"Antes: {vetor}\")\n",
    "# Criando sem repetições\n",
    "repetidos = np.bincount(vetor)\n",
    "if any(repetidos > 1):\n",
    "    print(\"Existem valores repetidos\")\n",
    "else:\n",
    "    print(\"Não existem valores repetidos\\n\\n\")"
   ]
  }
 ],
 "metadata": {
  "kernelspec": {
   "display_name": "Python 3",
   "language": "python",
   "name": "python3"
  },
  "language_info": {
   "codemirror_mode": {
    "name": "ipython",
    "version": 3
   },
   "file_extension": ".py",
   "mimetype": "text/x-python",
   "name": "python",
   "nbconvert_exporter": "python",
   "pygments_lexer": "ipython3",
   "version": "3.12.6"
  }
 },
 "nbformat": 4,
 "nbformat_minor": 2
}
