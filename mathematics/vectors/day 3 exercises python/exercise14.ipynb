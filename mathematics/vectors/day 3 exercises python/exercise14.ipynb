{
 "cells": [
  {
   "cell_type": "markdown",
   "metadata": {},
   "source": [
    "# Condição em múltiplas variáveis 2"
   ]
  },
  {
   "cell_type": "code",
   "execution_count": 3,
   "metadata": {},
   "outputs": [
    {
     "name": "stdout",
     "output_type": "stream",
     "text": [
      "Antes [ 14  79  92 102  69 116  14  51  39  24  52 134  70  20  75]\n",
      "Após ['Menor que 25' 'Maior que 50' 'Maior que 50' 'Maior que 50'\n",
      " 'Maior que 50' 'Maior que 50' 'Menor que 25' 'Maior que 50'\n",
      " 'Entre 25 e 50' 'Menor que 25' 'Maior que 50' 'Maior que 50'\n",
      " 'Maior que 50' 'Menor que 25' 'Maior que 50']\n"
     ]
    }
   ],
   "source": [
    "#  Classifique os números do vetor como \"Menor que 25\", \"Entre 25 e 50\" ou \"Maior que 50\".\n",
    "\n",
    "import numpy as np\n",
    "# Criando vetor\n",
    "vetor = np.random.randint(1,150, 15)\n",
    "print(f\"Antes {vetor}\")\n",
    "\n",
    "# Criando a máscra\n",
    "mascara = np.where(vetor < 25, \"Menor que 25\", \n",
    "                   np.where( (vetor >= 25) & (vetor <= 50), \"Entre 25 e 50\", \"Maior que 50\"))\n",
    "print(f\"Após {mascara}\")"
   ]
  }
 ],
 "metadata": {
  "kernelspec": {
   "display_name": "Python 3",
   "language": "python",
   "name": "python3"
  },
  "language_info": {
   "codemirror_mode": {
    "name": "ipython",
    "version": 3
   },
   "file_extension": ".py",
   "mimetype": "text/x-python",
   "name": "python",
   "nbconvert_exporter": "python",
   "pygments_lexer": "ipython3",
   "version": "3.12.6"
  }
 },
 "nbformat": 4,
 "nbformat_minor": 2
}
