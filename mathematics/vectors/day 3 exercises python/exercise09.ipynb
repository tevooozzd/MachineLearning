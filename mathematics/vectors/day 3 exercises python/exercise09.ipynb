{
 "cells": [
  {
   "cell_type": "markdown",
   "metadata": {},
   "source": [
    "# Contagem de Elementos com Máscaras\n"
   ]
  },
  {
   "cell_type": "code",
   "execution_count": 4,
   "metadata": {},
   "outputs": [
    {
     "name": "stdout",
     "output_type": "stream",
     "text": [
      "O vetor antes da máscara é: [31 61 62  4 61 30 35 18 92 49 28 22 47 91 81 57  4 44 13 33 46 27  6 53\n",
      " 72 43 55 10 60 58 28 95 91 29 47 15 49 84 36 30 92 21 41 80 27  9 62 10\n",
      " 91 20 79  8 32 63 99 14 10 15 81 53  5 56  7 45  4 48 59 49 66 12 67 72\n",
      " 26 33 29 61 89 96 29 39 51 46 75 79 74  8 28 90 78 49 23 77 52 56  3 28\n",
      " 17 45  8 41]\n",
      "O vetor após a máscara de 18 à 30 anós é: [30 18 28 22 27 28 29 30 21 27 20 26 29 29 28 23 28]\n"
     ]
    }
   ],
   "source": [
    "# Dado um array de idades de 100 pessoas, conte quantas têm entre 18 e 30 anos.\n",
    "import numpy as np\n",
    "\n",
    "# Criando o vetor\n",
    "vetor = np.random.randint(1,100, 100)\n",
    "print(f\"O vetor antes da máscara é: {vetor}\")\n",
    "\n",
    "# Crindo a máscara\n",
    "mascara = (vetor >= 18) & (vetor <= 30)\n",
    "print(f\"O vetor após a máscara de 18 à 30 anós é: {vetor[mascara]}\")"
   ]
  },
  {
   "cell_type": "code",
   "execution_count": null,
   "metadata": {},
   "outputs": [],
   "source": []
  }
 ],
 "metadata": {
  "kernelspec": {
   "display_name": "Python 3",
   "language": "python",
   "name": "python3"
  },
  "language_info": {
   "codemirror_mode": {
    "name": "ipython",
    "version": 3
   },
   "file_extension": ".py",
   "mimetype": "text/x-python",
   "name": "python",
   "nbconvert_exporter": "python",
   "pygments_lexer": "ipython3",
   "version": "3.12.6"
  }
 },
 "nbformat": 4,
 "nbformat_minor": 2
}
