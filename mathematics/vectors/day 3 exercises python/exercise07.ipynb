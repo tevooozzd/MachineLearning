{
 "cells": [
  {
   "cell_type": "markdown",
   "metadata": {},
   "source": [
    "# Indexação Booleana e Máscaras"
   ]
  },
  {
   "cell_type": "code",
   "execution_count": 6,
   "metadata": {},
   "outputs": [
    {
     "name": "stdout",
     "output_type": "stream",
     "text": [
      "O vetor sem máscara é [87  8 54 95 52 35 76 81  6 58 80 17 20 94 10 58 16 18 90 78]\n",
      "Os elementos com as condições da máscara (maior que 50 e menor que 80) são: [54 52 76 58 58 78]\n"
     ]
    }
   ],
   "source": [
    "# Crie um vetor e filtre apenas os valores maiores que 50 e menores que 80.\n",
    "\n",
    "\n",
    "# Criando o vetor\n",
    "import numpy as np\n",
    "vetor = np.random.randint(1, 100, 20)\n",
    "print(f\"O vetor sem máscara é {vetor}\")\n",
    "# Criando a máscara\n",
    "mascara = (vetor > 50) & (vetor < 80)\n",
    "print(f\"Os elementos com as condições da máscara (maior que 50 e menor que 80) são: {vetor[mascara]}\")"
   ]
  }
 ],
 "metadata": {
  "kernelspec": {
   "display_name": "Python 3",
   "language": "python",
   "name": "python3"
  },
  "language_info": {
   "codemirror_mode": {
    "name": "ipython",
    "version": 3
   },
   "file_extension": ".py",
   "mimetype": "text/x-python",
   "name": "python",
   "nbconvert_exporter": "python",
   "pygments_lexer": "ipython3",
   "version": "3.12.6"
  }
 },
 "nbformat": 4,
 "nbformat_minor": 2
}
