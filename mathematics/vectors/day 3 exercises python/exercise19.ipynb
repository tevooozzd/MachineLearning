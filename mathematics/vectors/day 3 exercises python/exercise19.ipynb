{
 "cells": [
  {
   "cell_type": "markdown",
   "metadata": {},
   "source": [
    "# Ordenação e Índices"
   ]
  },
  {
   "cell_type": "code",
   "execution_count": 2,
   "metadata": {},
   "outputs": [
    {
     "name": "stdout",
     "output_type": "stream",
     "text": [
      "Antes: [ 72 231  63 202 427  12 156 134 369 304 251 221 285 441 108  72  87 194\n",
      " 192 489 390 376 298 393  26  99 185 462  39 480 210 499  43  60 117 373\n",
      " 350 413 134 450 105 212  86 216  27 193 245 294 144 113 275 335 400  80\n",
      " 417 428 364 454 455 383  43 164 462 242   8  97 175 165 286 418 452 211\n",
      " 195 196 434 187 341 354 361 470 318 435  44 333 217 259 156 358 472 492\n",
      " 376  14 353 257 369 489 420 452 312 243]\n",
      "\n",
      "Depois: [  8  12  14  26  27  39  43  43  44  60  63  72  72  80  86  87  97  99\n",
      " 105 108 113 117 134 134 144 156 156 164 165 175 185 187 192 193 194 195\n",
      " 196 202 210 211 212 216 217 221 231 242 243 245 251 257 259 275 285 286\n",
      " 294 298 304 312 318 333 335 341 350 353 354 358 361 364 369 369 373 376\n",
      " 376 383 390 393 400 413 417 418 420 427 428 434 435 441 450 452 452 454\n",
      " 455 462 462 470 472 480 489 489 492 499]\n"
     ]
    }
   ],
   "source": [
    "# Crie um vetor com 100 números aleatórios entre 1 e 500 e ordene esse vetor em ordem crescente.\n",
    "\n",
    "import numpy as np\n",
    "# Criando o vetor\n",
    "vetor = np.random.randint(1,500, 100)\n",
    "print(f\"Antes: {vetor}\")\n",
    "# Criando a ordenação do vetor\n",
    "vetor = np.sort(vetor)\n",
    "print(f\"\\nDepois: {vetor}\")"
   ]
  }
 ],
 "metadata": {
  "kernelspec": {
   "display_name": "Python 3",
   "language": "python",
   "name": "python3"
  },
  "language_info": {
   "codemirror_mode": {
    "name": "ipython",
    "version": 3
   },
   "file_extension": ".py",
   "mimetype": "text/x-python",
   "name": "python",
   "nbconvert_exporter": "python",
   "pygments_lexer": "ipython3",
   "version": "3.12.6"
  }
 },
 "nbformat": 4,
 "nbformat_minor": 2
}
