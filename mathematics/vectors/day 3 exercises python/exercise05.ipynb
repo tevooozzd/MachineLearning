{
 "cells": [
  {
   "cell_type": "code",
   "execution_count": null,
   "metadata": {},
   "outputs": [
    {
     "name": "stdout",
     "output_type": "stream",
     "text": [
      "O vetor original é de:\n",
      "[38 23 39 30 99 36 32 72 42 54]\n",
      "\n",
      "\n",
      "O vetor invertido é de:\n",
      "[54 42 72 32 36 99 30 39 23 38]\n"
     ]
    }
   ],
   "source": [
    "# Inverter um vetor usando sciling\n",
    "import numpy as np \n",
    "# Criação do vetor com números aleatórios de 1-101 com 20 elementos\n",
    "vetor = np.random.randint(1, 101, 10)\n",
    "print(f\"O vetor original é de:\\n{vetor}\\n\\n\")\n",
    "\n",
    "# Inversão do vetor usando o sciling\n",
    "vetor = vetor[::-1]\n",
    "print(f\"O vetor invertido é de:\\n{vetor}\")"
   ]
  },
  {
   "cell_type": "code",
   "execution_count": 5,
   "metadata": {},
   "outputs": [
    {
     "name": "stdout",
     "output_type": "stream",
     "text": [
      "O vetor original é de:\n",
      "[14 32 99 73 30 43 58  9 89 53]\n",
      "\n",
      "\n",
      "O vetor invertido é de:\n",
      "[53 89  9 58 43 30 73 99 32 14]\n"
     ]
    }
   ],
   "source": [
    "# Tambem podemos usar a técnica flip do próprio numpy\n",
    "import numpy as np \n",
    "# Criação do vetor com números aleatórios de 1-101 com 20 elementos\n",
    "vetor2 = np.random.randint(1, 101, 10)\n",
    "print(f\"O vetor original é de:\\n{vetor2}\\n\\n\")\n",
    "\n",
    "# Inversão do vetor usando o sciling\n",
    "vetor2 = np.flip(vetor2)\n",
    "print(f\"O vetor invertido é de:\\n{vetor2}\")"
   ]
  }
 ],
 "metadata": {
  "kernelspec": {
   "display_name": "Python 3",
   "language": "python",
   "name": "python3"
  },
  "language_info": {
   "codemirror_mode": {
    "name": "ipython",
    "version": 3
   },
   "file_extension": ".py",
   "mimetype": "text/x-python",
   "name": "python",
   "nbconvert_exporter": "python",
   "pygments_lexer": "ipython3",
   "version": "3.12.6"
  }
 },
 "nbformat": 4,
 "nbformat_minor": 2
}
