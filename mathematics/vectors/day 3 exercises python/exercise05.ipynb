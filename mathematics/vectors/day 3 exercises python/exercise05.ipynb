{
 "cells": [
  {
   "cell_type": "code",
   "execution_count": null,
   "metadata": {},
   "outputs": [
    {
     "name": "stdout",
     "output_type": "stream",
     "text": [
      "[ 71  92  22  47  47  96  49  66   6  82  61  48  57  64  50  90  32  16\n",
      "  61  37  26   2  29 100  88   5  63  21  67  75  67  18  62  59   9  80\n",
      "  85  49  25  83  76  28  95  21  61  17  54  96  16  39  18  12  23  17\n",
      "  45  79  86  34  80  38  61   6  11  56  11  28  94   2  27  76  57  73\n",
      "  26  45  45  15  86  61  47  49  16  87  19  50   3  12  23  18  13  53\n",
      "  35  53  99   1  95  38  50  14  30  69  20  93  38  72 100  84  99 100\n",
      "  41  86  58  55  84  41  81  33  99  30  89  89  44  27  27  78  48  90\n",
      "  34  83  88  75  10  50  84  14  79  15  42  40  45  77  35  96 100  57\n",
      "  62  86  34  24  51 100  73  85  10  44  79  38  53 100  77  57  98  98\n",
      "  55  95  66  13  64  21   1  73  87  54   7  40  59  39  20  34  86  23\n",
      "  95  23  93  49  30   5  98  61  43  44  61  55  94  21   7  56  10  91\n",
      "  55  54]\n"
     ]
    }
   ],
   "source": [
    "# Crie um vetor de 200 números aleatórios. Redimensione esse vetor para uma matriz 10x20. Em seguida, encontre a soma de todos os elementos de cada coluna e normalize cada coluna para que seus valores fiquem entre 0 e 1.\n",
    "\n",
    "# Criando o vetor com números 200 aleatórios \n",
    "import numpy as np\n",
    "vetor = np.random.randint(1,101,200)\n",
    "print(vetor)"
   ]
  },
  {
   "cell_type": "code",
   "execution_count": 14,
   "metadata": {},
   "outputs": [
    {
     "name": "stdout",
     "output_type": "stream",
     "text": [
      "[[ 71  92  22  47  47  96  49  66   6  82  61  48  57  64  50  90  32  16\n",
      "   61  37]\n",
      " [ 26   2  29 100  88   5  63  21  67  75  67  18  62  59   9  80  85  49\n",
      "   25  83]\n",
      " [ 76  28  95  21  61  17  54  96  16  39  18  12  23  17  45  79  86  34\n",
      "   80  38]\n",
      " [ 61   6  11  56  11  28  94   2  27  76  57  73  26  45  45  15  86  61\n",
      "   47  49]\n",
      " [ 16  87  19  50   3  12  23  18  13  53  35  53  99   1  95  38  50  14\n",
      "   30  69]\n",
      " [ 20  93  38  72 100  84  99 100  41  86  58  55  84  41  81  33  99  30\n",
      "   89  89]\n",
      " [ 44  27  27  78  48  90  34  83  88  75  10  50  84  14  79  15  42  40\n",
      "   45  77]\n",
      " [ 35  96 100  57  62  86  34  24  51 100  73  85  10  44  79  38  53 100\n",
      "   77  57]\n",
      " [ 98  98  55  95  66  13  64  21   1  73  87  54   7  40  59  39  20  34\n",
      "   86  23]\n",
      " [ 95  23  93  49  30   5  98  61  43  44  61  55  94  21   7  56  10  91\n",
      "   55  54]]\n"
     ]
    }
   ],
   "source": [
    "# Fazendo um reshape de 1x200 (1 linha por 200 colunas) -> 10x20 (10 linhas por 20 colunas)\n",
    "vetor = vetor.reshape(10,20)\n",
    "print(vetor)"
   ]
  },
  {
   "cell_type": "code",
   "execution_count": 15,
   "metadata": {},
   "outputs": [
    {
     "name": "stdout",
     "output_type": "stream",
     "text": [
      "A soma da coluna 0 é de: 542\n",
      "A soma da coluna 1 é de: 552\n",
      "A soma da coluna 2 é de: 489\n",
      "A soma da coluna 3 é de: 625\n",
      "A soma da coluna 4 é de: 516\n",
      "A soma da coluna 5 é de: 436\n",
      "A soma da coluna 6 é de: 612\n",
      "A soma da coluna 7 é de: 492\n",
      "A soma da coluna 8 é de: 353\n",
      "A soma da coluna 9 é de: 703\n",
      "A soma da coluna 10 é de: 527\n",
      "A soma da coluna 11 é de: 503\n",
      "A soma da coluna 12 é de: 546\n",
      "A soma da coluna 13 é de: 346\n",
      "A soma da coluna 14 é de: 549\n",
      "A soma da coluna 15 é de: 483\n",
      "A soma da coluna 16 é de: 563\n",
      "A soma da coluna 17 é de: 469\n",
      "A soma da coluna 18 é de: 595\n",
      "A soma da coluna 19 é de: 576\n"
     ]
    }
   ],
   "source": [
    "# Somando todas as colunas\n",
    "soma = np.sum(vetor, axis = 0)\n",
    "for x in range(20):\n",
    "    print(f\"A soma da coluna {x} é de: {soma[x]}\")"
   ]
  }
 ],
 "metadata": {
  "kernelspec": {
   "display_name": "Python 3",
   "language": "python",
   "name": "python3"
  },
  "language_info": {
   "codemirror_mode": {
    "name": "ipython",
    "version": 3
   },
   "file_extension": ".py",
   "mimetype": "text/x-python",
   "name": "python",
   "nbconvert_exporter": "python",
   "pygments_lexer": "ipython3",
   "version": "3.12.6"
  }
 },
 "nbformat": 4,
 "nbformat_minor": 2
}
