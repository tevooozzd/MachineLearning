{
 "cells": [
  {
   "cell_type": "markdown",
   "metadata": {},
   "source": [
    "# Substituição com Máscaras\n"
   ]
  },
  {
   "cell_type": "code",
   "execution_count": 7,
   "metadata": {},
   "outputs": [
    {
     "name": "stdout",
     "output_type": "stream",
     "text": [
      "O vetor antes das máscara é: [52 66 84  1 64 12 93  6 37 28 49 74 11 49 68 24  8 37 84 16]\n",
      "O vetor depois da máscara é: [12 28 11 24 16]\n"
     ]
    }
   ],
   "source": [
    "# Dado um array de temperaturas, substitua todos os valores abaixo de 10°C por 10 e todos acima de 35°C por 35.\n",
    "\n",
    "import numpy as np\n",
    "\n",
    "#Criando o vetor\n",
    "vetor = np.random.randint(1,100, 20)\n",
    "print(f\"O vetor antes das máscara é: {vetor}\")\n",
    "\n",
    "# Criando a mascara\n",
    "mascara = (np.where(vetor < 10, vetor == 10, True)) &  (np.where(vetor > 35, vetor == 35, True))\n",
    "print(f\"O vetor depois da máscara é: {vetor[mascara]}\") "
   ]
  }
 ],
 "metadata": {
  "kernelspec": {
   "display_name": "Python 3",
   "language": "python",
   "name": "python3"
  },
  "language_info": {
   "codemirror_mode": {
    "name": "ipython",
    "version": 3
   },
   "file_extension": ".py",
   "mimetype": "text/x-python",
   "name": "python",
   "nbconvert_exporter": "python",
   "pygments_lexer": "ipython3",
   "version": "3.12.6"
  }
 },
 "nbformat": 4,
 "nbformat_minor": 2
}
