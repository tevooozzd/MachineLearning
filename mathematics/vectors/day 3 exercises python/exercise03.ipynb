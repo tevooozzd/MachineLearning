{
 "cells": [
  {
   "cell_type": "markdown",
   "metadata": {},
   "source": [
    "# Logica"
   ]
  },
  {
   "cell_type": "code",
   "execution_count": 14,
   "metadata": {},
   "outputs": [
    {
     "name": "stdout",
     "output_type": "stream",
     "text": [
      "A média do vetor é de 4.5\n",
      "As mediana do vetor é de: 4.5\n",
      "O desvio padrão é de 2.29\n"
     ]
    }
   ],
   "source": [
    "# Dado um vetor de 8 elementos, ache a média, mediana e desvio padrão\n",
    "\n",
    "import numpy as np\n",
    "vetor = np.array([1,2,3,4,5,6,7,8])\n",
    "\n",
    "media = sum(vetor) / len(vetor) # Descobrindo a média total_soma_elementos  / total_elementos\n",
    "print(f\"A média do vetor é de {media}\")\n",
    "\n",
    "if (len(vetor) % 2 == 0): # Descobrindo a mediana vetor com número par de elementos\n",
    "    mediana = (vetor[len(vetor) // 2 - 1] + vetor[len(vetor) // 2]) / 2\n",
    "    print(f\"As mediana do vetor é de: {mediana}\")\n",
    "else: # Descobrindo a mediana de um vetor com números ímpares de elementos\n",
    "    mediana = abs(len(vetor) / 2)\n",
    "    print(f\"A mediana é de: {mediana}\")\n",
    "\n",
    "# Desvio padrão\n",
    "desvio_padrao = np.std(vetor)\n",
    "print(f\"O desvio padrão é de {desvio_padrao:.2f}\")"
   ]
  },
  {
   "cell_type": "markdown",
   "metadata": {},
   "source": [
    "# Funções do numpy\n"
   ]
  },
  {
   "cell_type": "code",
   "execution_count": 13,
   "metadata": {},
   "outputs": [
    {
     "name": "stdout",
     "output_type": "stream",
     "text": [
      "A média do vetor é de: 4.5\n",
      "A mediana do vetor é/são de: 4.5\n",
      "O desvio padrão é de: 2.29 \n"
     ]
    }
   ],
   "source": [
    "import numpy as np\n",
    "vetor = np.array([1,2,3,4,5,6,7,8])\n",
    "print(f\"A média do vetor é de: {np.mean(vetor)}\")\n",
    "print(f\"A mediana do vetor é/são de: {np.median(vetor)}\")\n",
    "print(f\"O desvio padrão é de: {np.std(vetor):.2f} \")"
   ]
  },
  {
   "cell_type": "code",
   "execution_count": null,
   "metadata": {},
   "outputs": [],
   "source": []
  }
 ],
 "metadata": {
  "kernelspec": {
   "display_name": "Python 3",
   "language": "python",
   "name": "python3"
  },
  "language_info": {
   "codemirror_mode": {
    "name": "ipython",
    "version": 3
   },
   "file_extension": ".py",
   "mimetype": "text/x-python",
   "name": "python",
   "nbconvert_exporter": "python",
   "pygments_lexer": "ipython3",
   "version": "3.12.6"
  }
 },
 "nbformat": 4,
 "nbformat_minor": 2
}
