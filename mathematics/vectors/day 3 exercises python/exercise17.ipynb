{
 "cells": [
  {
   "cell_type": "markdown",
   "metadata": {},
   "source": [
    "# Filtagram com condições variaveis"
   ]
  },
  {
   "cell_type": "code",
   "execution_count": 5,
   "metadata": {},
   "outputs": [
    {
     "name": "stdout",
     "output_type": "stream",
     "text": [
      "Antes [ 22  42  32 -25  25 -21   6   6  10  14 -25 -33  32  19   8  -4 -10  26\n",
      "  -4  33  -4 -14   0 -32 -22 -50  32  23  -8  -8]\n",
      "Apos: ['Positivo' 'Positivo' 'Positivo' 'Negativo' 'Positivo' 'Negativo'\n",
      " 'Positivo' 'Positivo' 'Positivo' 'Positivo' 'Negativo' 'Negativo'\n",
      " 'Positivo' 'Positivo' 'Positivo' 'Negativo' 'Negativo' 'Positivo'\n",
      " 'Negativo' 'Positivo' 'Negativo' 'Negativo' 'Zero' 'Negativo' 'Negativo'\n",
      " 'Negativo' 'Positivo' 'Positivo' 'Negativo' 'Negativo']\n"
     ]
    }
   ],
   "source": [
    "# Crie um vetor de 30 números aleatórios entre -50 e 50 e substitua os números negativos por \"Negativo\", os números positivos por \"Positivo\" e o 0 por \"Zero\".\n",
    "\n",
    "import numpy as np\n",
    "# Criando vetor\n",
    "vetor = np.random.randint(-50, 50, 30)\n",
    "print(f\"Antes {vetor}\")\n",
    "\n",
    "# Criando a máscra\n",
    "mascara = np.where(vetor < 0, \"Negativo\",\n",
    "                   np.where( (vetor > 0 ), \"Positivo\", \"Zero\"))\n",
    "print(f\"Apos: {mascara}\")"
   ]
  }
 ],
 "metadata": {
  "kernelspec": {
   "display_name": "Python 3",
   "language": "python",
   "name": "python3"
  },
  "language_info": {
   "codemirror_mode": {
    "name": "ipython",
    "version": 3
   },
   "file_extension": ".py",
   "mimetype": "text/x-python",
   "name": "python",
   "nbconvert_exporter": "python",
   "pygments_lexer": "ipython3",
   "version": "3.12.6"
  }
 },
 "nbformat": 4,
 "nbformat_minor": 2
}
