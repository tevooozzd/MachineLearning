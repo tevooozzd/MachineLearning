{
 "cells": [
  {
   "cell_type": "markdown",
   "metadata": {},
   "source": [
    "# Indexação"
   ]
  },
  {
   "cell_type": "code",
   "execution_count": 4,
   "metadata": {},
   "outputs": [
    {
     "name": "stdout",
     "output_type": "stream",
     "text": [
      "O vetor criado é: [9 1 5 2 3]\n",
      "Acessando o 3 elemento do vetor: 5\n"
     ]
    }
   ],
   "source": [
    "# Acesse o 3 elemento de um array com 5 elementos\n",
    "\n",
    "import numpy as np\n",
    "\n",
    "# Criando o vetor e printando\n",
    "vetor = np.random.randint(1,10,5)\n",
    "print(f\"O vetor criado é: {vetor}\")\n",
    "print(f\"Acessando o 3 elemento do vetor: {vetor[2]}\")"
   ]
  }
 ],
 "metadata": {
  "kernelspec": {
   "display_name": "Python 3",
   "language": "python",
   "name": "python3"
  },
  "language_info": {
   "codemirror_mode": {
    "name": "ipython",
    "version": 3
   },
   "file_extension": ".py",
   "mimetype": "text/x-python",
   "name": "python",
   "nbconvert_exporter": "python",
   "pygments_lexer": "ipython3",
   "version": "3.12.6"
  }
 },
 "nbformat": 4,
 "nbformat_minor": 2
}
