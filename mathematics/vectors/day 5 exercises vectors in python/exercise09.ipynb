{
 "cells": [
  {
   "cell_type": "markdown",
   "metadata": {},
   "source": [
    "# Equacão Lineares 3"
   ]
  },
  {
   "cell_type": "code",
   "execution_count": 1,
   "metadata": {},
   "outputs": [
    {
     "name": "stdout",
     "output_type": "stream",
     "text": [
      "A resposta para X é -0.00, para Y é:3.67, e para Z é:3.33\n"
     ]
    }
   ],
   "source": [
    "# Resolva o sistema de equações\n",
    "# x + 2y - z = 4\n",
    "# 3x -y + 2z = 3\n",
    "# 2x + y + z = 7\n",
    "\n",
    "import numpy as np\n",
    "# Criando as matrizes\n",
    "A = np.array([ [1, 2,-1], [3,-1,2], [2,1,1]])\n",
    "B = np.array([4,3,7])\n",
    "\n",
    "# Solução\n",
    "resultado = np.linalg.solve(A, B)\n",
    "print(f\"A resposta para X é {resultado[0]:.2f}, para Y é:{resultado[1]:.2f}, e para Z é:{resultado[2]:.2f}\")"
   ]
  }
 ],
 "metadata": {
  "kernelspec": {
   "display_name": "Python 3",
   "language": "python",
   "name": "python3"
  },
  "language_info": {
   "codemirror_mode": {
    "name": "ipython",
    "version": 3
   },
   "file_extension": ".py",
   "mimetype": "text/x-python",
   "name": "python",
   "nbconvert_exporter": "python",
   "pygments_lexer": "ipython3",
   "version": "3.12.6"
  }
 },
 "nbformat": 4,
 "nbformat_minor": 2
}
