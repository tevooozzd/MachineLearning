{
 "cells": [
  {
   "cell_type": "markdown",
   "metadata": {},
   "source": [
    "# Equacoes lineares 4"
   ]
  },
  {
   "cell_type": "code",
   "execution_count": null,
   "metadata": {},
   "outputs": [
    {
     "name": "stdout",
     "output_type": "stream",
     "text": [
      "A resposta para X é 1.54, para Y é:-0.34, e para Z é:1.86\n"
     ]
    }
   ],
   "source": [
    "# Resolva o sistema de equações\n",
    "# 2x - y + 3z = 9\n",
    "# 4x -2y - z = 5\n",
    "# 3x + y + 2z = 8\n",
    "\n",
    "import numpy as np\n",
    "# Criando as matrizes\n",
    "A = np.array([ [2, -1, 3], [4, -2, -1], [3, 1, 2]])\n",
    "B = np.array([9, 5, 8])\n",
    "\n",
    "# Solução\n",
    "resultado = np.linalg.solve(A, B)\n",
    "print(f\"A resposta para X é {resultado[0]:.2f}, para Y é:{resultado[1]:.2f}, e para Z é:{resultado[2]:.2f}\")"
   ]
  }
 ],
 "metadata": {
  "kernelspec": {
   "display_name": "Python 3",
   "language": "python",
   "name": "python3"
  },
  "language_info": {
   "codemirror_mode": {
    "name": "ipython",
    "version": 3
   },
   "file_extension": ".py",
   "mimetype": "text/x-python",
   "name": "python",
   "nbconvert_exporter": "python",
   "pygments_lexer": "ipython3",
   "version": "3.12.6"
  }
 },
 "nbformat": 4,
 "nbformat_minor": 2
}
