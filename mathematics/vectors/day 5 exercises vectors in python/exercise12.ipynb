{
 "cells": [
  {
   "cell_type": "markdown",
   "metadata": {},
   "source": [
    "# Equacoes lineares 6"
   ]
  },
  {
   "cell_type": "code",
   "execution_count": 2,
   "metadata": {},
   "outputs": [
    {
     "name": "stdout",
     "output_type": "stream",
     "text": [
      "A resposta para X é: -0.32, para Y é: 2.31, para Z é: 2.81, e para W é: 1.93\n"
     ]
    }
   ],
   "source": [
    "# Resolva o sistema de equações\n",
    "# 5x - 2y + 3z + w = 12\n",
    "# 3x + 4y - z + 2w = 9\n",
    "# 1x - y + 3z - 3w = 0\n",
    "# 2x + y + z + 4w = 15\n",
    "\n",
    "import numpy as np\n",
    "# Criando as matrizes\n",
    "A = np.array([ [5, 3, 1, 2], [-2, 4, -1, 1], [1, -1, 3, -3], [2, 1, 2, 4]])\n",
    "B = np.array([12, 9, 0, 15])\n",
    "\n",
    "# Solução\n",
    "resultado = np.linalg.solve(A, B)\n",
    "print(f\"A resposta para X é: {resultado[0]:.2f}, para Y é: {resultado[1]:.2f}, para Z é: {resultado[2]:.2f}, e para W é: {resultado[3]:.2f}\")"
   ]
  }
 ],
 "metadata": {
  "kernelspec": {
   "display_name": "Python 3",
   "language": "python",
   "name": "python3"
  },
  "language_info": {
   "codemirror_mode": {
    "name": "ipython",
    "version": 3
   },
   "file_extension": ".py",
   "mimetype": "text/x-python",
   "name": "python",
   "nbconvert_exporter": "python",
   "pygments_lexer": "ipython3",
   "version": "3.12.6"
  }
 },
 "nbformat": 4,
 "nbformat_minor": 2
}
