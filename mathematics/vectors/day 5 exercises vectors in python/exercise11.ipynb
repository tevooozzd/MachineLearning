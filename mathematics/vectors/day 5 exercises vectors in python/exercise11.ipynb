{
 "cells": [
  {
   "cell_type": "markdown",
   "metadata": {},
   "source": [
    "# Equacoes lineares 5"
   ]
  },
  {
   "cell_type": "code",
   "execution_count": null,
   "metadata": {},
   "outputs": [
    {
     "name": "stdout",
     "output_type": "stream",
     "text": [
      "A resposta para X é: -0.18, para Y é: 3.76, para Z é: 3.88, e para W é: 2.53\n"
     ]
    }
   ],
   "source": [
    "# Resolva o sistema de equações\n",
    "# x + y + z + w= 10\n",
    "# 2x - y + 3z - w = 5\n",
    "# 4x + 2y - z + 2w = 8\n",
    "# 3x - y + 2z + w= 6\n",
    "\n",
    "import numpy as np\n",
    "# Criando as matrizes\n",
    "A = np.array([ [1, 1, 1, 1], [2, -1, 3, -1], [4, 2, -1, 2], [3, -1, 2, 1]])\n",
    "B = np.array([10, 5, 8, 6])\n",
    "\n",
    "# Solução\n",
    "resultado = np.linalg.solve(A, B)\n",
    "print(f\"A resposta para X é: {resultado[0]:.2f}, para Y é: {resultado[1]:.2f}, para Z é: {resultado[2]:.2f}, e para W é: {resultado[3]:.2f}\")"
   ]
  }
 ],
 "metadata": {
  "kernelspec": {
   "display_name": "Python 3",
   "language": "python",
   "name": "python3"
  },
  "language_info": {
   "codemirror_mode": {
    "name": "ipython",
    "version": 3
   },
   "file_extension": ".py",
   "mimetype": "text/x-python",
   "name": "python",
   "nbconvert_exporter": "python",
   "pygments_lexer": "ipython3",
   "version": "3.12.6"
  }
 },
 "nbformat": 4,
 "nbformat_minor": 2
}
