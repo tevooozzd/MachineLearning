{
 "cells": [
  {
   "cell_type": "markdown",
   "metadata": {},
   "source": [
    "# Equações lineares"
   ]
  },
  {
   "cell_type": "code",
   "execution_count": 8,
   "metadata": {},
   "outputs": [
    {
     "name": "stdout",
     "output_type": "stream",
     "text": [
      "A resposta para X é 2.07, e para Y é:1.29\n"
     ]
    }
   ],
   "source": [
    "# Resolva o sistema de equações\n",
    "# 2x + 3y = 8\n",
    "# 4x - y = 7\n",
    "\n",
    "# Criando as matrizes\n",
    "import numpy as np\n",
    "x = np.array([ [2,3], [4,-1]])\n",
    "y = np.array( [8,7] )\n",
    "\n",
    "# Resolução\n",
    "resultado = np.linalg.solve(x,y)\n",
    "print(f\"A resposta para X é {resultado[0]:.2f}, e para Y é:{resultado[1]:.2f}\")"
   ]
  }
 ],
 "metadata": {
  "kernelspec": {
   "display_name": "Python 3",
   "language": "python",
   "name": "python3"
  },
  "language_info": {
   "codemirror_mode": {
    "name": "ipython",
    "version": 3
   },
   "file_extension": ".py",
   "mimetype": "text/x-python",
   "name": "python",
   "nbconvert_exporter": "python",
   "pygments_lexer": "ipython3",
   "version": "3.12.6"
  }
 },
 "nbformat": 4,
 "nbformat_minor": 2
}
