{
 "cells": [
  {
   "cell_type": "markdown",
   "metadata": {},
   "source": [
    "# Equacão lineares 2"
   ]
  },
  {
   "cell_type": "code",
   "execution_count": 1,
   "metadata": {},
   "outputs": [
    {
     "name": "stdout",
     "output_type": "stream",
     "text": [
      "A resposta para X é 2.38, e para Y é:-0.08\n"
     ]
    }
   ],
   "source": [
    "# Resolva o sistema de equações\n",
    "# 5x - y = 12\n",
    "# 3x + 2y = 7\n",
    "\n",
    "import numpy as np\n",
    "# Criando as matrizes\n",
    "A = np.array([ [5, -1], [3, 2]])\n",
    "B = np.array([12,7])\n",
    "\n",
    "# Solução\n",
    "resultado = np.linalg.solve(A, B)\n",
    "print(f\"A resposta para X é {resultado[0]:.2f}, e para Y é:{resultado[1]:.2f}\")"
   ]
  }
 ],
 "metadata": {
  "kernelspec": {
   "display_name": "Python 3",
   "language": "python",
   "name": "python3"
  },
  "language_info": {
   "codemirror_mode": {
    "name": "ipython",
    "version": 3
   },
   "file_extension": ".py",
   "mimetype": "text/x-python",
   "name": "python",
   "nbconvert_exporter": "python",
   "pygments_lexer": "ipython3",
   "version": "3.12.6"
  }
 },
 "nbformat": 4,
 "nbformat_minor": 2
}
