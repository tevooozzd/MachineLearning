{
 "cells": [
  {
   "cell_type": "markdown",
   "metadata": {},
   "source": [
    "# Indexação"
   ]
  },
  {
   "cell_type": "code",
   "execution_count": 3,
   "metadata": {},
   "outputs": [
    {
     "name": "stdout",
     "output_type": "stream",
     "text": [
      "A matriz criada foi:\n",
      "[[1 2 3]\n",
      " [4 5 6]\n",
      " [7 8 9]]\n",
      "Acessando a ultima linha inteira: [7 8 9]\n"
     ]
    }
   ],
   "source": [
    "# Dado uma matriz 3x3 de 1 até 9, printe toda a última linha\n",
    "\n",
    "import numpy as np\n",
    "\n",
    "# Criando a matriz\n",
    "matriz = np.array([ [1,2,3], [4,5,6], [7,8,9]])\n",
    "print(f\"A matriz criada foi:\\n{matriz}\")\n",
    "print(f\"Acessando a ultima linha inteira: {matriz[2, :]}\")"
   ]
  }
 ],
 "metadata": {
  "kernelspec": {
   "display_name": "Python 3",
   "language": "python",
   "name": "python3"
  },
  "language_info": {
   "codemirror_mode": {
    "name": "ipython",
    "version": 3
   },
   "file_extension": ".py",
   "mimetype": "text/x-python",
   "name": "python",
   "nbconvert_exporter": "python",
   "pygments_lexer": "ipython3",
   "version": "3.12.6"
  }
 },
 "nbformat": 4,
 "nbformat_minor": 2
}
