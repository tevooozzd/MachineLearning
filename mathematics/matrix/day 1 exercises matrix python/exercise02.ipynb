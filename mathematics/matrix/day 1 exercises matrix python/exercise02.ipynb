{
 "cells": [
  {
   "cell_type": "code",
   "execution_count": 16,
   "metadata": {},
   "outputs": [
    {
     "name": "stdout",
     "output_type": "stream",
     "text": [
      "[ 67  79  50  95  82  28  36   9  23  31  30   9   7  50  69  31  22  41\n",
      "   6  80  59  31  58  68  47  45  85  74  96  50  20  57  27  80  79  84\n",
      "  77  66  22  53  42  56 100  72  44  35  85  90   6  27  73   2  59  80\n",
      "  43  32  76  85  28 100  42  98  68  22  16  54  94  74  38   1  33  67\n",
      "  60  30  71  82  25  59  73   5  20  41   7   4  10  90  33  19   9  50\n",
      "  78  89  64  26  50  24  54  47   9  56  37  66  90  72  21  71  42  51\n",
      "  59  23   4  46  51  51  34  28  84  94  72  62   3   1  85  22  79  88\n",
      "   2  16  51  83  51   5  80  94  44  20  84  44  17   8   1  53  75  35\n",
      "  42  11  82  95  95  12  40  74   6  57  54  90  42  28  94  10  46  53\n",
      "  72   5  21  49  50  52  22  29  52  93  23  66  60   7  50  73  71  31\n",
      "  84  65  33  24  68  75  82  58  34  96  41  84  10  47  35   3  87  98\n",
      "  73  11]\n"
     ]
    }
   ],
   "source": [
    "# Crie um vetor de 200 números aleatórios. Redimensione esse vetor para uma matriz 10x20. Em seguida, encontre a soma de todos os elementos de cada coluna e normalize cada coluna para que seus valores fiquem entre 0 e 1.\n",
    "\n",
    "# Criando o vetor com números 200 aleatórios \n",
    "import numpy as np\n",
    "vetor = np.random.randint(1,101,200)\n",
    "print(vetor)"
   ]
  },
  {
   "cell_type": "code",
   "execution_count": 17,
   "metadata": {},
   "outputs": [
    {
     "name": "stdout",
     "output_type": "stream",
     "text": [
      "[[ 67  79  50  95  82  28  36   9  23  31  30   9   7  50  69  31  22  41\n",
      "    6  80]\n",
      " [ 59  31  58  68  47  45  85  74  96  50  20  57  27  80  79  84  77  66\n",
      "   22  53]\n",
      " [ 42  56 100  72  44  35  85  90   6  27  73   2  59  80  43  32  76  85\n",
      "   28 100]\n",
      " [ 42  98  68  22  16  54  94  74  38   1  33  67  60  30  71  82  25  59\n",
      "   73   5]\n",
      " [ 20  41   7   4  10  90  33  19   9  50  78  89  64  26  50  24  54  47\n",
      "    9  56]\n",
      " [ 37  66  90  72  21  71  42  51  59  23   4  46  51  51  34  28  84  94\n",
      "   72  62]\n",
      " [  3   1  85  22  79  88   2  16  51  83  51   5  80  94  44  20  84  44\n",
      "   17   8]\n",
      " [  1  53  75  35  42  11  82  95  95  12  40  74   6  57  54  90  42  28\n",
      "   94  10]\n",
      " [ 46  53  72   5  21  49  50  52  22  29  52  93  23  66  60   7  50  73\n",
      "   71  31]\n",
      " [ 84  65  33  24  68  75  82  58  34  96  41  84  10  47  35   3  87  98\n",
      "   73  11]]\n"
     ]
    }
   ],
   "source": [
    "# Fazendo um reshape de 1x200 (1 linha por 200 colunas) -> 10x20 (10 linhas por 20 colunas)\n",
    "vetor = vetor.reshape(10,20)\n",
    "print(vetor)"
   ]
  },
  {
   "cell_type": "code",
   "execution_count": 18,
   "metadata": {},
   "outputs": [
    {
     "name": "stdout",
     "output_type": "stream",
     "text": [
      "A soma da coluna 0 é de: 401\n",
      "A soma da coluna 1 é de: 543\n",
      "A soma da coluna 2 é de: 638\n",
      "A soma da coluna 3 é de: 419\n",
      "A soma da coluna 4 é de: 430\n",
      "A soma da coluna 5 é de: 546\n",
      "A soma da coluna 6 é de: 591\n",
      "A soma da coluna 7 é de: 538\n",
      "A soma da coluna 8 é de: 433\n",
      "A soma da coluna 9 é de: 402\n",
      "A soma da coluna 10 é de: 422\n",
      "A soma da coluna 11 é de: 526\n",
      "A soma da coluna 12 é de: 387\n",
      "A soma da coluna 13 é de: 581\n",
      "A soma da coluna 14 é de: 539\n",
      "A soma da coluna 15 é de: 401\n",
      "A soma da coluna 16 é de: 601\n",
      "A soma da coluna 17 é de: 635\n",
      "A soma da coluna 18 é de: 465\n",
      "A soma da coluna 19 é de: 416\n"
     ]
    }
   ],
   "source": [
    "# Somando todas as colunas\n",
    "soma = np.sum(vetor, axis = 0)\n",
    "for x in range(20):\n",
    "    print(f\"A soma da coluna {x} é de: {soma[x]}\")"
   ]
  }
 ],
 "metadata": {
  "kernelspec": {
   "display_name": "Python 3",
   "language": "python",
   "name": "python3"
  },
  "language_info": {
   "codemirror_mode": {
    "name": "ipython",
    "version": 3
   },
   "file_extension": ".py",
   "mimetype": "text/x-python",
   "name": "python",
   "nbconvert_exporter": "python",
   "pygments_lexer": "ipython3",
   "version": "3.12.6"
  }
 },
 "nbformat": 4,
 "nbformat_minor": 2
}
