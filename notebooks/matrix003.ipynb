{
 "cells": [
  {
   "cell_type": "markdown",
   "metadata": {},
   "source": [
    "# Array manipulation\n",
    "#### Filtering, accessing, creating and resizing arrays"
   ]
  },
  {
   "cell_type": "code",
   "execution_count": 1,
   "metadata": {},
   "outputs": [
    {
     "name": "stdout",
     "output_type": "stream",
     "text": [
      "[4 5 6 7 8 9]\n",
      "[1 2 3 4]\n",
      "Exists\n"
     ]
    }
   ],
   "source": [
    "import numpy as np\n",
    "\n",
    "arr = np.array([[1,2,3],[4,5,6],[7,8,9]])\n",
    "print(arr[arr > 3]) # Arr[arr] it filters for something\n",
    "print(arr[arr < 5])\n",
    "print(\"Exists\" if arr[arr == 2] else \"Does not exist\")"
   ]
  },
  {
   "cell_type": "code",
   "execution_count": 4,
   "metadata": {},
   "outputs": [
    {
     "name": "stdout",
     "output_type": "stream",
     "text": [
      "1\n",
      "5\n",
      "9\n"
     ]
    }
   ],
   "source": [
    "print(arr[0,0]) # First element of 1 array\n",
    "print(arr[1,1]) # Middle element\n",
    "print(arr[-1,-1]) # Last element of the last array"
   ]
  },
  {
   "cell_type": "code",
   "execution_count": 3,
   "metadata": {},
   "outputs": [
    {
     "name": "stdout",
     "output_type": "stream",
     "text": [
      "Arr1:\n",
      " [[0. 0. 0.]\n",
      " [0. 0. 0.]\n",
      " [0. 0. 0.]]\n",
      "\n",
      " Arr2:\n",
      " [[1. 1. 1.]\n",
      " [1. 1. 1.]\n",
      " [1. 1. 1.]]\n",
      "\n",
      " Arr3:\n",
      " [[7 7]\n",
      " [7 7]]\n"
     ]
    }
   ],
   "source": [
    "arr1 = np.zeros((3,3)) # Creates a 3x3 matrix composed only of 0\n",
    "arr2 = np.ones((3,3)) # Creates a 3x3 matrix composed only of 1\n",
    "arr3 = np.full((2,2), 7) # Creates a 2x2 matrix filled with numbers x (in this case 7)\n",
    "print(f\"Arr1:\\n {arr1}\\n\\n Arr2:\\n {arr2}\\n\\n Arr3:\\n {arr3}\")"
   ]
  },
  {
   "cell_type": "code",
   "execution_count": 2,
   "metadata": {},
   "outputs": [
    {
     "name": "stdout",
     "output_type": "stream",
     "text": [
      "Before:\n",
      " [ 0  1  2  3  4  5  6  7  8  9 10 11]\n",
      "\n",
      "\n",
      "After:\n",
      " [[ 0  1  2  3]\n",
      " [ 4  5  6  7]\n",
      " [ 8  9 10 11]]\n"
     ]
    }
   ],
   "source": [
    "arr4 = np.arange(12) # Creates a one-dimensional array from 0-11 (1x11)\n",
    "print(f\"Before:\\n {arr4}\\n\\n\")\n",
    "arr_reshape = arr4.reshape(3,4) # Transforms into a 3x4 array\n",
    "print(f\"After:\\n {arr_reshape}\")"
   ]
  }
 ],
 "metadata": {
  "kernelspec": {
   "display_name": "Python 3",
   "language": "python",
   "name": "python3"
  },
  "language_info": {
   "codemirror_mode": {
    "name": "ipython",
    "version": 3
   },
   "file_extension": ".py",
   "mimetype": "text/x-python",
   "name": "python",
   "nbconvert_exporter": "python",
   "pygments_lexer": "ipython3",
   "version": "3.12.6"
  }
 },
 "nbformat": 4,
 "nbformat_minor": 2
}
