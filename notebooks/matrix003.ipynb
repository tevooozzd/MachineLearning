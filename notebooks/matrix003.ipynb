{
 "cells": [
  {
   "cell_type": "markdown",
   "metadata": {},
   "source": [
    "# Manipulacao de Array\n",
    "#### Filtrando, acessando, criando e redimensionando arrays"
   ]
  },
  {
   "cell_type": "code",
   "execution_count": 4,
   "metadata": {},
   "outputs": [
    {
     "name": "stdout",
     "output_type": "stream",
     "text": [
      "[4 5 6 7 8 9]\n",
      "[1 2 3 4]\n",
      "Existe\n"
     ]
    }
   ],
   "source": [
    "import numpy as np\n",
    "\n",
    "arr = np.array([[1,2,3],[4,5,6],[7,8,9]])\n",
    "print(arr[arr > 3]) # Arr[arr] ele filtra por algo\n",
    "print(arr[arr < 5])\n",
    "print(\"Existe\" if arr[arr == 2] else \"Não existe\")"
   ]
  },
  {
   "cell_type": "code",
   "execution_count": 14,
   "metadata": {},
   "outputs": [
    {
     "name": "stdout",
     "output_type": "stream",
     "text": [
      "1\n",
      "5\n",
      "9\n"
     ]
    }
   ],
   "source": [
    "\n",
    "print(arr[0,0]) # Primeiro elemento do 1 array\n",
    "print(arr[1,1]) # Elemento do meio\n",
    "print(arr[-1,-1]) # Ultimo elemento do ultimo array"
   ]
  },
  {
   "cell_type": "code",
   "execution_count": 13,
   "metadata": {},
   "outputs": [
    {
     "name": "stdout",
     "output_type": "stream",
     "text": [
      "Arr1:\n",
      " [[0. 0. 0.]\n",
      " [0. 0. 0.]\n",
      " [0. 0. 0.]]\n",
      "\n",
      " Arr:\n",
      " [[1. 1. 1.]\n",
      " [1. 1. 1.]\n",
      " [1. 1. 1.]]\n",
      "\n",
      " Arr3:\n",
      " [[7 7]\n",
      " [7 7]]\n"
     ]
    }
   ],
   "source": [
    "arr1 = np.zeros((3,3)) # Cria uma matriz de 3x3 composta somente por 0\n",
    "arr2 = np.ones((3,3)) # Cria uma matriz de 3x3 composta somente por 1\n",
    "arr3 = np.full((2,2), 7) # Cria uma matrix 2x2 preenchida com numeros x (nesse caso 7)\n",
    "print(f\"Arr1:\\n {arr1}\\n\\n Arr2:\\n {arr2}\\n\\n Arr3:\\n {arr3}\")"
   ]
  },
  {
   "cell_type": "code",
   "execution_count": 29,
   "metadata": {},
   "outputs": [
    {
     "name": "stdout",
     "output_type": "stream",
     "text": [
      "Antes:\n",
      " [ 0  1  2  3  4  5  6  7  8  9 10 11]\n",
      "\n",
      "\n",
      "Depois:\n",
      " [[ 0  1  2  3]\n",
      " [ 4  5  6  7]\n",
      " [ 8  9 10 11]]\n"
     ]
    }
   ],
   "source": [
    "arr4 = np.arange(12) # Cria um array unidimensional de 0-11 (1x11)\n",
    "print(f\"Antes:\\n {arr4}\\n\\n\")\n",
    "arr_reshape = arr4.reshape(3,4) # Transforma em um array 3x4\n",
    "print(f\"Depois:\\n {arr_reshape}\")"
   ]
  }
 ],
 "metadata": {
  "kernelspec": {
   "display_name": "Python 3",
   "language": "python",
   "name": "python3"
  },
  "language_info": {
   "codemirror_mode": {
    "name": "ipython",
    "version": 3
   },
   "file_extension": ".py",
   "mimetype": "text/x-python",
   "name": "python",
   "nbconvert_exporter": "python",
   "pygments_lexer": "ipython3",
   "version": "3.12.6"
  }
 },
 "nbformat": 4,
 "nbformat_minor": 2
}
