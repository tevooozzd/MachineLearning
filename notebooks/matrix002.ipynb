{
 "cells": [
  {
   "cell_type": "markdown",
   "metadata": {},
   "source": [
    "# Math operations with arrays"
   ]
  },
  {
   "cell_type": "code",
   "execution_count": 4,
   "metadata": {},
   "outputs": [
    {
     "name": "stdout",
     "output_type": "stream",
     "text": [
      "The add of arrays is [12 24 36]\n",
      "The sub of arrays if [ 8 16 24]\n",
      "The multiplication of arrays is [ 20  80 180]\n",
      "The divion of arrays if [5. 5. 5.]\n"
     ]
    }
   ],
   "source": [
    "import numpy as np\n",
    "\n",
    "my_array = np.array([10, 20, 30])\n",
    "my_array2 = np.array([2, 4, 6])\n",
    "print(f\"The add of arrays is {my_array + my_array2}\")\n",
    "print(f\"The sub of arrays if {my_array - my_array2}\")\n",
    "print(f\"The multiplication of arrays is {my_array * my_array2}\")\n",
    "print(f\"The divion of arrays if {my_array / my_array2}\")"
   ]
  }
 ],
 "metadata": {
  "kernelspec": {
   "display_name": "Python 3",
   "language": "python",
   "name": "python3"
  },
  "language_info": {
   "codemirror_mode": {
    "name": "ipython",
    "version": 3
   },
   "file_extension": ".py",
   "mimetype": "text/x-python",
   "name": "python",
   "nbconvert_exporter": "python",
   "pygments_lexer": "ipython3",
   "version": "3.12.6"
  }
 },
 "nbformat": 4,
 "nbformat_minor": 2
}
