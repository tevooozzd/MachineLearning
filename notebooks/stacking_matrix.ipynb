{
 "cells": [
  {
   "cell_type": "markdown",
   "metadata": {},
   "source": [
    "# Stacking arrays"
   ]
  },
  {
   "cell_type": "markdown",
   "metadata": {},
   "source": [
    "##### -> Stacking the arrays vertical/horizontal"
   ]
  },
  {
   "cell_type": "code",
   "execution_count": 6,
   "metadata": {},
   "outputs": [
    {
     "name": "stdout",
     "output_type": "stream",
     "text": [
      "[[1 2 3]\n",
      " [4 5 6]\n",
      " [7 8 9]]\n"
     ]
    }
   ],
   "source": [
    "import numpy as np\n",
    "\n",
    "arrA = np.array([[1, 2, 3] ,[4, 5, 6]]) #2 ROW, 3 COLUMNS\n",
    "arrB = np.array([[7, 8, 9]]) #1 ROW, 3 COLUMNS\n",
    "result = np.vstack((arrA , arrB)) # Stack the arrays (ARRAY A 0 WITH ARRAY B 0, ARRAY A 1 WITH ARRAT 1 B in vertical, IT'S NEED HAVE THE SAME NUMBER OF COLUMNS\n",
    "print(result)"
   ]
  },
  {
   "cell_type": "code",
   "execution_count": 11,
   "metadata": {},
   "outputs": [
    {
     "name": "stdout",
     "output_type": "stream",
     "text": [
      "[[0 1 2 3 7]\n",
      " [3 4 5 6 8]]\n"
     ]
    }
   ],
   "source": [
    "arrC = np.array([[0,1,2,3], [3,4,5,6]]) # 2 ROWS, 4 COLUNDS   \n",
    "arrD = np.array([[7], [8]]) # 2 ROWS, 2 COLUMNS\n",
    "result = np.hstack((arrC, arrD)) # Stack the arrays (ARRAY C 0 WITH ARRAY D 0, ARRAY C 1 WITH ARRAT 1 D) in horizontal, IT'S NEED TO HAVE THE SAME NUMBERS OF ROWS\n",
    "print(result)"
   ]
  }
 ],
 "metadata": {
  "kernelspec": {
   "display_name": "Python 3",
   "language": "python",
   "name": "python3"
  },
  "language_info": {
   "codemirror_mode": {
    "name": "ipython",
    "version": 3
   },
   "file_extension": ".py",
   "mimetype": "text/x-python",
   "name": "python",
   "nbconvert_exporter": "python",
   "pygments_lexer": "ipython3",
   "version": "3.12.6"
  }
 },
 "nbformat": 4,
 "nbformat_minor": 2
}
