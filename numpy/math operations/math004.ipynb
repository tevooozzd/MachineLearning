{
 "cells": [
  {
   "cell_type": "markdown",
   "metadata": {},
   "source": [
    "# Math operations"
   ]
  },
  {
   "cell_type": "code",
   "execution_count": 1,
   "metadata": {},
   "outputs": [
    {
     "name": "stdout",
     "output_type": "stream",
     "text": [
      "O vetor criado foi: [2 7 8 5 3 9 6 1 7 8]\n",
      "O novo vetor ao quadrado criado foi: [ 4 49 64 25  9 81 36  1 49 64]\n"
     ]
    }
   ],
   "source": [
    "# Dado um vetor, eleve todos os elementos ao quadrado.\n",
    "import numpy as np\n",
    "\n",
    "# Criando vetor\n",
    "vetor = np.random.randint(1,10,10)\n",
    "\n",
    "# Elevando ao quadrado\n",
    "vetor_ao_quadrado = np.power(vetor, 2)\n",
    "\n",
    "# Printando\n",
    "print(f\"O vetor criado foi: {vetor}\")\n",
    "print(f\"O novo vetor ao quadrado criado foi: {vetor_ao_quadrado}\")"
   ]
  }
 ],
 "metadata": {
  "kernelspec": {
   "display_name": "Python 3",
   "language": "python",
   "name": "python3"
  },
  "language_info": {
   "codemirror_mode": {
    "name": "ipython",
    "version": 3
   },
   "file_extension": ".py",
   "mimetype": "text/x-python",
   "name": "python",
   "nbconvert_exporter": "python",
   "pygments_lexer": "ipython3",
   "version": "3.12.6"
  }
 },
 "nbformat": 4,
 "nbformat_minor": 2
}
