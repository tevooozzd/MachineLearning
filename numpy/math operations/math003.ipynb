{
 "cells": [
  {
   "cell_type": "markdown",
   "metadata": {},
   "source": [
    "# Math operations"
   ]
  },
  {
   "cell_type": "code",
   "execution_count": 4,
   "metadata": {},
   "outputs": [
    {
     "name": "stdout",
     "output_type": "stream",
     "text": [
      "A matriz criada foi:\n",
      "[[1 2 3]\n",
      " [4 5 6]]\n",
      "e sua transposta é:\n",
      "[[1 4]\n",
      " [2 5]\n",
      " [3 6]]\n"
     ]
    }
   ],
   "source": [
    "# Dada uma matriz 3x3, calcule sua transposta.\n",
    "import numpy as np\n",
    "\n",
    "# Criando a matriz\n",
    "matriz = np.array([ [1,2,3], [4,5,6]])\n",
    "\n",
    "# Transposta\n",
    "matriz_transposta = np.transpose(matriz)\n",
    "\n",
    "# Printando\n",
    "print(f\"A matriz criada foi:\\n{matriz}\\ne sua transposta é:\\n{matriz_transposta}\")\n"
   ]
  }
 ],
 "metadata": {
  "kernelspec": {
   "display_name": "Python 3",
   "language": "python",
   "name": "python3"
  },
  "language_info": {
   "codemirror_mode": {
    "name": "ipython",
    "version": 3
   },
   "file_extension": ".py",
   "mimetype": "text/x-python",
   "name": "python",
   "nbconvert_exporter": "python",
   "pygments_lexer": "ipython3",
   "version": "3.12.6"
  }
 },
 "nbformat": 4,
 "nbformat_minor": 2
}
