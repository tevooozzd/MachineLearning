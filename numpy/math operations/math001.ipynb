{
 "cells": [
  {
   "cell_type": "markdown",
   "metadata": {},
   "source": [
    "# Math operations"
   ]
  },
  {
   "cell_type": "code",
   "execution_count": 1,
   "metadata": {},
   "outputs": [
    {
     "name": "stdout",
     "output_type": "stream",
     "text": [
      "O vetor criado foi: [1 1 1 3 3], e a soma de todos os elementos foi: 9\n"
     ]
    }
   ],
   "source": [
    "# Dado um vetor, calcule a soma de todos os seus elementos.\n",
    "\n",
    "import numpy as np\n",
    "# Criando o vetor\n",
    "vetor = np.random.randint(1,5,5)\n",
    "\n",
    "# Somando\n",
    "vetor_soma = np.sum(vetor)\n",
    "\n",
    "# Printando\n",
    "print(f\"O vetor criado foi: {vetor}, e a soma de todos os elementos foi: {vetor_soma}\")"
   ]
  }
 ],
 "metadata": {
  "kernelspec": {
   "display_name": "Python 3",
   "language": "python",
   "name": "python3"
  },
  "language_info": {
   "codemirror_mode": {
    "name": "ipython",
    "version": 3
   },
   "file_extension": ".py",
   "mimetype": "text/x-python",
   "name": "python",
   "nbconvert_exporter": "python",
   "pygments_lexer": "ipython3",
   "version": "3.12.6"
  }
 },
 "nbformat": 4,
 "nbformat_minor": 2
}
