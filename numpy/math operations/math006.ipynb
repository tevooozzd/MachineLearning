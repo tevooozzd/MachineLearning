{
 "cells": [
  {
   "cell_type": "markdown",
   "metadata": {},
   "source": [
    "# Math operations"
   ]
  },
  {
   "cell_type": "code",
   "execution_count": 2,
   "metadata": {},
   "outputs": [
    {
     "name": "stdout",
     "output_type": "stream",
     "text": [
      "As matrizes criadas foram, \n",
      "Matriz1:\n",
      "[[2 4 5]\n",
      " [3 8 4]\n",
      " [3 9 3]]\n",
      "Matriz2:\n",
      "[[5 4 9]\n",
      " [1 4 8]\n",
      " [8 1 1]]\n",
      "E seu produto matricial é de:\n",
      "[[ 54  29  55]\n",
      " [ 55  48  95]\n",
      " [ 48  51 102]]\n"
     ]
    }
   ],
   "source": [
    "# Dado duas matrizes de 3x3 elementos, calcule seu produto matricial\n",
    "\n",
    "import numpy as np\n",
    "\n",
    "# Criando os vetores\n",
    "matriz1 = np.random.randint(1,10, size=(3,3))\n",
    "matriz2 = np.random.randint(1,10, size=(3,3))\n",
    "\n",
    "# Calculando o prduto escalar\n",
    "produto_escalar = np.dot(matriz1, matriz2)\n",
    "\n",
    "# Printando\n",
    "print(f\"As matrizes criadas foram, \\nMatriz1:\\n{matriz1}\\nMatriz2:\\n{matriz2}\")\n",
    "print(f\"E seu produto matricial é de:\\n{produto_escalar}\")"
   ]
  }
 ],
 "metadata": {
  "kernelspec": {
   "display_name": "Python 3",
   "language": "python",
   "name": "python3"
  },
  "language_info": {
   "codemirror_mode": {
    "name": "ipython",
    "version": 3
   },
   "file_extension": ".py",
   "mimetype": "text/x-python",
   "name": "python",
   "nbconvert_exporter": "python",
   "pygments_lexer": "ipython3",
   "version": "3.12.6"
  }
 },
 "nbformat": 4,
 "nbformat_minor": 2
}
