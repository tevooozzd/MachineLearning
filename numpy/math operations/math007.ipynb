{
 "cells": [
  {
   "cell_type": "markdown",
   "metadata": {},
   "source": [
    "\n",
    "# Math operations"
   ]
  },
  {
   "cell_type": "code",
   "execution_count": 8,
   "metadata": {},
   "outputs": [
    {
     "name": "stdout",
     "output_type": "stream",
     "text": [
      "A matriz criada foi:\n",
      "[[ 8  9 17]\n",
      " [19 11  7]\n",
      " [12  3  8]]\n",
      "A média da matriz foi de:10.44, seu valor máximo e mínimo respectivamente é: 19, 3\n"
     ]
    }
   ],
   "source": [
    "# Dado uma matriz 3x3, printe o maior e menor número e sua média\n",
    "\n",
    "import numpy as np\n",
    "\n",
    "# Criando a matriz\n",
    "matriz = np.random.randint(1,20, size=(3,3))\n",
    "\n",
    "# Menor, maior e média\n",
    "maior = np.max(matriz)\n",
    "menor = np.min(matriz)\n",
    "media = np.mean(matriz)\n",
    "\n",
    "# Printando\n",
    "print(f\"A matriz criada foi:\\n{matriz}\")\n",
    "print(f\"A média da matriz foi de:{media:.2f}, seu valor máximo e mínimo respectivamente é: {maior}, {menor}\")"
   ]
  }
 ],
 "metadata": {
  "kernelspec": {
   "display_name": "Python 3",
   "language": "python",
   "name": "python3"
  },
  "language_info": {
   "codemirror_mode": {
    "name": "ipython",
    "version": 3
   },
   "file_extension": ".py",
   "mimetype": "text/x-python",
   "name": "python",
   "nbconvert_exporter": "python",
   "pygments_lexer": "ipython3",
   "version": "3.12.6"
  }
 },
 "nbformat": 4,
 "nbformat_minor": 2
}
