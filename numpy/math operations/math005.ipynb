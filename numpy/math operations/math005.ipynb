{
 "cells": [
  {
   "cell_type": "markdown",
   "metadata": {},
   "source": [
    "# Math operations"
   ]
  },
  {
   "cell_type": "code",
   "execution_count": 3,
   "metadata": {},
   "outputs": [
    {
     "name": "stdout",
     "output_type": "stream",
     "text": [
      "Os vetores criados foram, \n",
      "Vetor1:\n",
      "[5 3 5 6 1 4 8 6 3 4]\n",
      "Vetor2:\n",
      "[9 1 9 2 4 9 1 3 4 7]\n",
      "E seu produto escalar é de: 211\n"
     ]
    }
   ],
   "source": [
    "# Dado dois vetor de 10 elementos, calcule seu produto escalar\n",
    "\n",
    "import numpy as np\n",
    "\n",
    "# Criando os vetores\n",
    "vetor1 = np.random.randint(1,10,10)\n",
    "vetor2 = np.random.randint(1,10,10)\n",
    "\n",
    "# Calculando o prduto escalar\n",
    "produto_escalar = np.dot(vetor1, vetor2)\n",
    "\n",
    "# Printando\n",
    "print(f\"Os vetores criados foram, \\nVetor1:\\n{vetor1}\\nVetor2:\\n{vetor2}\")\n",
    "print(f\"E seu produto escalar é de: {produto_escalar}\")"
   ]
  }
 ],
 "metadata": {
  "kernelspec": {
   "display_name": "Python 3",
   "language": "python",
   "name": "python3"
  },
  "language_info": {
   "codemirror_mode": {
    "name": "ipython",
    "version": 3
   },
   "file_extension": ".py",
   "mimetype": "text/x-python",
   "name": "python",
   "nbconvert_exporter": "python",
   "pygments_lexer": "ipython3",
   "version": "3.12.6"
  }
 },
 "nbformat": 4,
 "nbformat_minor": 2
}
