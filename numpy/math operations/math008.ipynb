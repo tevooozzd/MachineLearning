{
 "cells": [
  {
   "cell_type": "markdown",
   "metadata": {},
   "source": [
    "# Math operations"
   ]
  },
  {
   "cell_type": "code",
   "execution_count": 2,
   "metadata": {},
   "outputs": [
    {
     "name": "stdout",
     "output_type": "stream",
     "text": [
      "A matriz criada foi:\n",
      "[[ 8  6 12]\n",
      " [ 7  2 12]\n",
      " [ 1 16 13]]\n",
      "A soma pelas colunas foi de: [16 24 37], pelas linhas: [26 21 30], já a soma total foi de: 77\n"
     ]
    }
   ],
   "source": [
    "# Dado uma matriz 3x3, calcule a soma total, a soma das colunas e soma das linhas\n",
    "\n",
    "import numpy as np\n",
    "\n",
    "# Criando a matriz\n",
    "matriz = np.random.randint(1,20, size=(3,3))\n",
    "\n",
    "# Linhas, colunas e total\n",
    "total = np.sum(matriz)\n",
    "colunas = np.sum(matriz, axis = 0)\n",
    "linhas = np.sum(matriz, axis = 1)\n",
    "\n",
    "# Printando\n",
    "print(f\"A matriz criada foi:\\n{matriz}\")\n",
    "print(f\"A soma pelas colunas foi de: {colunas}, pelas linhas: {linhas}, já a soma total foi de: {total}\")"
   ]
  }
 ],
 "metadata": {
  "kernelspec": {
   "display_name": "Python 3",
   "language": "python",
   "name": "python3"
  },
  "language_info": {
   "codemirror_mode": {
    "name": "ipython",
    "version": 3
   },
   "file_extension": ".py",
   "mimetype": "text/x-python",
   "name": "python",
   "nbconvert_exporter": "python",
   "pygments_lexer": "ipython3",
   "version": "3.12.6"
  }
 },
 "nbformat": 4,
 "nbformat_minor": 2
}
