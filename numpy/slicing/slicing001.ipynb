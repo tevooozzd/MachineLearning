{
 "cells": [
  {
   "cell_type": "markdown",
   "metadata": {},
   "source": [
    "# Slicing BÁSICO"
   ]
  },
  {
   "cell_type": "code",
   "execution_count": null,
   "metadata": {},
   "outputs": [
    {
     "name": "stdout",
     "output_type": "stream",
     "text": [
      "O vetor criado é: [6 6 1 7 4 5 8 7 8 7]\n",
      "Acessando do 3 elemento do vetor até o 6: [1 7 4 5]\n"
     ]
    }
   ],
   "source": [
    "# Dado um vetor de 10 elementos, de 1 até 10, acesse do 3 até o 6 elemento\n",
    "\n",
    "\n",
    "import numpy as np\n",
    "\n",
    "# Criando o vetor e printando\n",
    "vetor = np.random.randint(1,10,10)\n",
    "print(f\"O vetor criado é: {vetor}\")\n",
    "print(f\"Acessando do 3 elemento do vetor até o 6: {vetor[2:6]}\")"
   ]
  }
 ],
 "metadata": {
  "kernelspec": {
   "display_name": "Python 3",
   "language": "python",
   "name": "python3"
  },
  "language_info": {
   "codemirror_mode": {
    "name": "ipython",
    "version": 3
   },
   "file_extension": ".py",
   "mimetype": "text/x-python",
   "name": "python",
   "nbconvert_exporter": "python",
   "pygments_lexer": "ipython3",
   "version": "3.12.6"
  }
 },
 "nbformat": 4,
 "nbformat_minor": 2
}
