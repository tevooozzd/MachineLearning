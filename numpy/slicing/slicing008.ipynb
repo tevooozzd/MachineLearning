{
 "cells": [
  {
   "cell_type": "markdown",
   "metadata": {},
   "source": [
    "# Slicing"
   ]
  },
  {
   "cell_type": "code",
   "execution_count": null,
   "metadata": {},
   "outputs": [
    {
     "name": "stdout",
     "output_type": "stream",
     "text": [
      "O vetor criado foi: [4 9 5 3 3 6 3 4 8 5 8 6 4 8 2 8 7 8 8 5]\n",
      "O novo vetor após o slicing é: [5 3 3 6] \n"
     ]
    }
   ],
   "source": [
    "# Dado um array 1D com 20 elementos, extraia os elementos do índice 2 ao índice 5.\n",
    "\n",
    "import numpy as np\n",
    "\n",
    "# Criando o vetor\n",
    "vetor = np.random.randint(1,10,20)\n",
    "\n",
    "# Fazendo o slicing\n",
    "vetor_slicing = vetor[2:6]\n",
    "\n",
    "# Printando\n",
    "print(f\"O vetor criado foi: {vetor}\")\n",
    "print(f\"O novo vetor após o slicing é: {vetor_slicing} \")"
   ]
  }
 ],
 "metadata": {
  "kernelspec": {
   "display_name": "Python 3",
   "language": "python",
   "name": "python3"
  },
  "language_info": {
   "codemirror_mode": {
    "name": "ipython",
    "version": 3
   },
   "file_extension": ".py",
   "mimetype": "text/x-python",
   "name": "python",
   "nbconvert_exporter": "python",
   "pygments_lexer": "ipython3",
   "version": "3.12.6"
  }
 },
 "nbformat": 4,
 "nbformat_minor": 2
}
