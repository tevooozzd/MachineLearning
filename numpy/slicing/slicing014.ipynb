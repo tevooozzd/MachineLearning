{
 "cells": [
  {
   "cell_type": "markdown",
   "metadata": {},
   "source": [
    "# Slicing AVANÇADO"
   ]
  },
  {
   "cell_type": "code",
   "execution_count": 4,
   "metadata": {},
   "outputs": [
    {
     "name": "stdout",
     "output_type": "stream",
     "text": [
      "Matriz criada foi:\n",
      "[[10 20 30]\n",
      " [40 50 60]\n",
      " [70 80 90]]\n",
      "Nova matriz após o slicing:\n",
      "[[50 60]\n",
      " [80 90]]\n"
     ]
    }
   ],
   "source": [
    "# Dado um array 2D 3x3, extraia as duas últimas linhas e as duas últimas colunas com valores negativos.\n",
    "\n",
    "import numpy as np\n",
    "# Criando a matriz\n",
    "matriz = np.array([ [10,20,30], [40,50,60], [70,80,90]])\n",
    "\n",
    "# Fazendo o slicing\n",
    "matriz_slicing = matriz[-2:, -2:]\n",
    "\n",
    "# Printando\n",
    "print(f\"Matriz criada foi:\\n{matriz}\")\n",
    "print(f\"Nova matriz após o slicing:\\n{matriz_slicing}\")\n",
    "\n"
   ]
  }
 ],
 "metadata": {
  "kernelspec": {
   "display_name": "Python 3",
   "language": "python",
   "name": "python3"
  },
  "language_info": {
   "codemirror_mode": {
    "name": "ipython",
    "version": 3
   },
   "file_extension": ".py",
   "mimetype": "text/x-python",
   "name": "python",
   "nbconvert_exporter": "python",
   "pygments_lexer": "ipython3",
   "version": "3.12.6"
  }
 },
 "nbformat": 4,
 "nbformat_minor": 2
}
