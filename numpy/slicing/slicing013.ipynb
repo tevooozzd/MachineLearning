{
 "cells": [
  {
   "cell_type": "markdown",
   "metadata": {},
   "source": [
    "# Slicing AVANÇADO"
   ]
  },
  {
   "cell_type": "code",
   "execution_count": null,
   "metadata": {},
   "outputs": [
    {
     "name": "stdout",
     "output_type": "stream",
     "text": [
      "O vetor criado foi:\n",
      "[2 5 4 3 2 2 1 2 8 1]\n",
      "Novo vetor após o slicing:\n",
      "[1 2 8 1]\n"
     ]
    }
   ],
   "source": [
    "# Dado um array 1D, extraia os quatro últimos elementos.\n",
    "import numpy as np\n",
    "# Criando o vetor\n",
    "vetor = np.random.randint(1,10,10)\n",
    "\n",
    "# Fazendo o slicing\n",
    "vetor_slicing = vetor[-4:]\n",
    "\n",
    "# Printando\n",
    "print(f\"O vetor criado foi:\\n{vetor}\")\n",
    "print(f\"Novo vetor após o slicing:\\n{vetor_slicing}\")\n"
   ]
  }
 ],
 "metadata": {
  "kernelspec": {
   "display_name": "Python 3",
   "language": "python",
   "name": "python3"
  },
  "language_info": {
   "codemirror_mode": {
    "name": "ipython",
    "version": 3
   },
   "file_extension": ".py",
   "mimetype": "text/x-python",
   "name": "python",
   "nbconvert_exporter": "python",
   "pygments_lexer": "ipython3",
   "version": "3.12.6"
  }
 },
 "nbformat": 4,
 "nbformat_minor": 2
}
