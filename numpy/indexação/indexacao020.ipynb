{
 "cells": [
  {
   "cell_type": "markdown",
   "metadata": {},
   "source": [
    "# Indexação AVANÇADA"
   ]
  },
  {
   "cell_type": "code",
   "execution_count": 1,
   "metadata": {},
   "outputs": [
    {
     "name": "stdout",
     "output_type": "stream",
     "text": [
      "O vetor criado foi: [ 4  4 12  4 10 10 17 18 18  6]\n",
      "O novo vetor após a máscara é: [6]\n"
     ]
    }
   ],
   "source": [
    "# Dado um vetor, use uma máscara par selecionar elementos maiores que 5 e menores que 10.\n",
    "\n",
    "import numpy as np\n",
    "\n",
    "# Criando o vetor\n",
    "vetor = np.random.randint(1,20,10)\n",
    "\n",
    "# Máscara\n",
    "mask = np.logical_and(vetor > 5, vetor < 10)\n",
    "\n",
    "# printando\n",
    "print(f\"O vetor criado foi: {vetor}\")\n",
    "print(f\"O novo vetor após a máscara é: {vetor[mask]}\")"
   ]
  }
 ],
 "metadata": {
  "kernelspec": {
   "display_name": "Python 3",
   "language": "python",
   "name": "python3"
  },
  "language_info": {
   "codemirror_mode": {
    "name": "ipython",
    "version": 3
   },
   "file_extension": ".py",
   "mimetype": "text/x-python",
   "name": "python",
   "nbconvert_exporter": "python",
   "pygments_lexer": "ipython3",
   "version": "3.12.6"
  }
 },
 "nbformat": 4,
 "nbformat_minor": 2
}
