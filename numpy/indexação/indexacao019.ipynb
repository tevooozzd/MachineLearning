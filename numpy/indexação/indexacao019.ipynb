{
 "cells": [
  {
   "cell_type": "markdown",
   "metadata": {},
   "source": [
    "# Indexação AVANÇADA"
   ]
  },
  {
   "cell_type": "code",
   "execution_count": 6,
   "metadata": {},
   "outputs": [
    {
     "name": "stdout",
     "output_type": "stream",
     "text": [
      "O vetor criado foi:[8 1 7 1 9 6 4 9 2 5 5 3 7 4 4 9 3 6 8 5]\n",
      "O novo vetor após a máscara é:[1 1 9 9 2 9]\n"
     ]
    }
   ],
   "source": [
    "# Dado um VETOR de 20 elementos, crie uma máscara para selecionar elementos que sejam menores que 3 ou maiores que 8.\n",
    "import numpy as np\n",
    "\n",
    "# Criando o vetor\n",
    "vetor = np.random.randint(1,10,20)\n",
    "\n",
    "# Máscara\n",
    "mask = np.logical_or(vetor < 3, vetor > 8)\n",
    "\n",
    "# printando\n",
    "print(f\"O vetor criado foi:{vetor}\")\n",
    "print(f\"O novo vetor após a máscara é:{vetor[mask]}\")\n"
   ]
  }
 ],
 "metadata": {
  "kernelspec": {
   "display_name": "Python 3",
   "language": "python",
   "name": "python3"
  },
  "language_info": {
   "codemirror_mode": {
    "name": "ipython",
    "version": 3
   },
   "file_extension": ".py",
   "mimetype": "text/x-python",
   "name": "python",
   "nbconvert_exporter": "python",
   "pygments_lexer": "ipython3",
   "version": "3.12.6"
  }
 },
 "nbformat": 4,
 "nbformat_minor": 2
}
