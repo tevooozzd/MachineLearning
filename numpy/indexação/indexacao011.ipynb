{
 "cells": [
  {
   "cell_type": "markdown",
   "metadata": {},
   "source": [
    "# Indexação AVANÇADA"
   ]
  },
  {
   "cell_type": "code",
   "execution_count": 1,
   "metadata": {},
   "outputs": [
    {
     "name": "stdout",
     "output_type": "stream",
     "text": [
      "O vetor criado foi: [86 21 10 49 86 25 88 42 15 52]\n",
      "Os elementos maiores que 30 e menores que 80 do vetor: [49 42 52]\n"
     ]
    }
   ],
   "source": [
    "# Dado um vetor de 10 elmentos, use indexação booleana para acessar e imprimir os elementos que são maiores que 30 e menores que 80\n",
    "import numpy as np\n",
    "\n",
    "# Criando o vetor\n",
    "vetor = np.random.randint(0,100,10)\n",
    "\n",
    "# Indexação\n",
    "boolean_index = (vetor > 30) & (vetor < 80)\n",
    "\n",
    "# Print\n",
    "print(f\"O vetor criado foi: {vetor}\")\n",
    "print(f\"Os elementos maiores que 30 e menores que 80 do vetor: {vetor[boolean_index]}\")"
   ]
  }
 ],
 "metadata": {
  "kernelspec": {
   "display_name": "Python 3",
   "language": "python",
   "name": "python3"
  },
  "language_info": {
   "codemirror_mode": {
    "name": "ipython",
    "version": 3
   },
   "file_extension": ".py",
   "mimetype": "text/x-python",
   "name": "python",
   "nbconvert_exporter": "python",
   "pygments_lexer": "ipython3",
   "version": "3.12.6"
  }
 },
 "nbformat": 4,
 "nbformat_minor": 2
}
