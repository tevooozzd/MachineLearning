{
 "cells": [
  {
   "cell_type": "markdown",
   "metadata": {},
   "source": [
    "# Indexação AVANÇADA\n"
   ]
  },
  {
   "cell_type": "code",
   "execution_count": 2,
   "metadata": {},
   "outputs": [
    {
     "name": "stdout",
     "output_type": "stream",
     "text": [
      "A matriz criada é:\n",
      "[[1 2 3]\n",
      " [4 5 6]\n",
      " [7 8 9]]\n",
      "Acessando todos os elementos da matriz maiores que 5 com boolean index: [6 7 8 9]\n"
     ]
    }
   ],
   "source": [
    "# Dado uma matriz de 3x3, use indexação booleana para acessar e imprimir apenas os elementos maiores que 5.\n",
    "import numpy as np\n",
    "\n",
    "# Criando o vetor\n",
    "matriz = np.array([ [1,2,3], [4,5,6], [7,8,9]])\n",
    "\n",
    "# Criando o boolean\n",
    "index_booleano = matriz > 5\n",
    "\n",
    "# Print\n",
    "print(f\"A matriz criada é:\\n{matriz}\")\n",
    "print(f\"Acessando todos os elementos da matriz maiores que 5 com boolean index: {matriz[index_booleano]}\")"
   ]
  }
 ],
 "metadata": {
  "kernelspec": {
   "display_name": "Python 3",
   "language": "python",
   "name": "python3"
  },
  "language_info": {
   "codemirror_mode": {
    "name": "ipython",
    "version": 3
   },
   "file_extension": ".py",
   "mimetype": "text/x-python",
   "name": "python",
   "nbconvert_exporter": "python",
   "pygments_lexer": "ipython3",
   "version": "3.12.6"
  }
 },
 "nbformat": 4,
 "nbformat_minor": 2
}
