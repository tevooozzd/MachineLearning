{
 "cells": [
  {
   "cell_type": "markdown",
   "metadata": {},
   "source": [
    "# Indexação AVANÇADA"
   ]
  },
  {
   "cell_type": "code",
   "execution_count": 5,
   "metadata": {},
   "outputs": [
    {
     "name": "stdout",
     "output_type": "stream",
     "text": [
      "A matriz criada foi:\n",
      "[[1 2 3]\n",
      " [4 5 6]\n",
      " [7 8 9]]\n",
      "Os elementos da matriz maiores que 3 e menores que 7 são: [4 5 6]\n"
     ]
    }
   ],
   "source": [
    "# Crie uma matriz 3x3 de 1 até 9 e com a BOOLEAN INDEX selecione apenas números maiores que 3 e menores que 7\n",
    "\n",
    "import numpy as np\n",
    "\n",
    "# Criando a matriz\n",
    "matriz = np.array([ [1,2,3], [4,5,6], [7,8,9] ])\n",
    "\n",
    "# Fazendo a indexação booleana\n",
    "index_booleana = (matriz > 3) & (matriz < 7 )\n",
    "\n",
    "# Printando\n",
    "print(f\"A matriz criada foi:\\n{matriz}\")\n",
    "print(f\"Os elementos da matriz maiores que 3 e menores que 7 são: {matriz[index_booleana]}\")"
   ]
  }
 ],
 "metadata": {
  "kernelspec": {
   "display_name": "Python 3",
   "language": "python",
   "name": "python3"
  },
  "language_info": {
   "codemirror_mode": {
    "name": "ipython",
    "version": 3
   },
   "file_extension": ".py",
   "mimetype": "text/x-python",
   "name": "python",
   "nbconvert_exporter": "python",
   "pygments_lexer": "ipython3",
   "version": "3.12.6"
  }
 },
 "nbformat": 4,
 "nbformat_minor": 2
}
