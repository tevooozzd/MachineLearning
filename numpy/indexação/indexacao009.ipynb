{
 "cells": [
  {
   "cell_type": "markdown",
   "metadata": {},
   "source": [
    "# Indexação BOOLEANA"
   ]
  },
  {
   "cell_type": "code",
   "execution_count": 2,
   "metadata": {},
   "outputs": [
    {
     "name": "stdout",
     "output_type": "stream",
     "text": [
      "O vetor criado é: [35 65 39 27 32 40 19 32 40 55]\n",
      "Acessando todos os elementos do vetor maiores de 50 com o boolean index: [65 55]\n"
     ]
    }
   ],
   "source": [
    "# Dado um vetor de 10 elementos, use indexação booleana para acessar e imprimir apenas os elementos maiores que 50.\n",
    "import numpy as np\n",
    "\n",
    "# Criando o vetor\n",
    "vetor = np.random.randint(0,100,10)\n",
    "\n",
    "# Criando o boolean\n",
    "index_booleano = vetor > 50\n",
    "\n",
    "# Print\n",
    "print(f\"O vetor criado é: {vetor}\")\n",
    "print(f\"Acessando todos os elementos do vetor maiores de 50 com o boolean index: {vetor[index_booleano]}\")"
   ]
  }
 ],
 "metadata": {
  "kernelspec": {
   "display_name": "Python 3",
   "language": "python",
   "name": "python3"
  },
  "language_info": {
   "codemirror_mode": {
    "name": "ipython",
    "version": 3
   },
   "file_extension": ".py",
   "mimetype": "text/x-python",
   "name": "python",
   "nbconvert_exporter": "python",
   "pygments_lexer": "ipython3",
   "version": "3.12.6"
  }
 },
 "nbformat": 4,
 "nbformat_minor": 2
}
