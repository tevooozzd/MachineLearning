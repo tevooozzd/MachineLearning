{
 "cells": [
  {
   "cell_type": "markdown",
   "metadata": {},
   "source": [
    "# Indexação BÁSICA"
   ]
  },
  {
   "cell_type": "code",
   "execution_count": 2,
   "metadata": {},
   "outputs": [
    {
     "name": "stdout",
     "output_type": "stream",
     "text": [
      "O vetor criado é: [9 0 8 7 6 2 0 9 3 9]\n",
      "O terceiro elemento do vetor é: 8\n"
     ]
    }
   ],
   "source": [
    "# Dado um vetor de 10 elementos, acesse e imprima o terceiro elemento.\n",
    "\n",
    "import numpy as np\n",
    "\n",
    "# Criando o vetor\n",
    "vetor = np.random.randint(0,10,10)\n",
    "\n",
    "# Acessando o 3 elemento\n",
    "terceiro_elemento = vetor[2]\n",
    "\n",
    "# Printando\n",
    "print(f\"O vetor criado é: {vetor}\")\n",
    "print(f\"O terceiro elemento do vetor é: {terceiro_elemento}\")"
   ]
  }
 ],
 "metadata": {
  "kernelspec": {
   "display_name": "Python 3",
   "language": "python",
   "name": "python3"
  },
  "language_info": {
   "codemirror_mode": {
    "name": "ipython",
    "version": 3
   },
   "file_extension": ".py",
   "mimetype": "text/x-python",
   "name": "python",
   "nbconvert_exporter": "python",
   "pygments_lexer": "ipython3",
   "version": "3.12.6"
  }
 },
 "nbformat": 4,
 "nbformat_minor": 2
}
