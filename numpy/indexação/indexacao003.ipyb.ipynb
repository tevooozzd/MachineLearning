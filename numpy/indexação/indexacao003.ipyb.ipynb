{
 "cells": [
  {
   "cell_type": "markdown",
   "metadata": {},
   "source": [
    "# Indexação BÁSICA"
   ]
  },
  {
   "cell_type": "code",
   "execution_count": null,
   "metadata": {},
   "outputs": [
    {
     "name": "stdout",
     "output_type": "stream",
     "text": [
      "O vetor criado é: [ 5 10 15 20 25 30 35 40 45 50]\n",
      "Acessando o primeiro elemento do vetor: 5\n",
      "Acessando o último elemento do vetor: 50\n"
     ]
    }
   ],
   "source": [
    "# Acesse o 1 e último elemento de um vetor com a tabuada do 5\n",
    "\n",
    "\n",
    "import numpy as np\n",
    "\n",
    "\n",
    "\n",
    "# Criando o vetor\n",
    "vetor = np.array([5,10,15,20,25,30,35,40,45,50])\n",
    "print(f\"O vetor criado é: {vetor}\")\n",
    "print(f\"Acessando o primeiro elemento do vetor: {vetor[0]}\")\n",
    "print(f\"Acessando o último elemento do vetor: {vetor[-1]}\")"
   ]
  }
 ],
 "metadata": {
  "kernelspec": {
   "display_name": "Python 3",
   "language": "python",
   "name": "python3"
  },
  "language_info": {
   "codemirror_mode": {
    "name": "ipython",
    "version": 3
   },
   "file_extension": ".py",
   "mimetype": "text/x-python",
   "name": "python",
   "nbconvert_exporter": "python",
   "pygments_lexer": "ipython3",
   "version": "3.12.6"
  }
 },
 "nbformat": 4,
 "nbformat_minor": 2
}
