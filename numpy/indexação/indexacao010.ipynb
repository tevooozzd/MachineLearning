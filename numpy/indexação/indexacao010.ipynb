{
 "cells": [
  {
   "cell_type": "markdown",
   "metadata": {},
   "source": [
    "# Indexação BOOLEANA"
   ]
  },
  {
   "cell_type": "code",
   "execution_count": 1,
   "metadata": {},
   "outputs": [
    {
     "name": "stdout",
     "output_type": "stream",
     "text": [
      "O vetor criado é: [90 91 94 75 15 47 13  7 63 87]\n",
      "Acessando todos os elementos pares do vetor com boolean index: [90 94]\n"
     ]
    }
   ],
   "source": [
    "# Dado um vetor de 10 elementos, use indexação booleana para acessar e imprimir apenas os elementos pares.\n",
    "import numpy as np\n",
    "\n",
    "# Criando o vetor\n",
    "vetor = np.random.randint(0,100,10)\n",
    "\n",
    "# Criando o boolean\n",
    "index_booleano = vetor % 2 == 0\n",
    "\n",
    "# Print\n",
    "print(f\"O vetor criado é: {vetor}\")\n",
    "print(f\"Acessando todos os elementos pares do vetor com boolean index: {vetor[index_booleano]}\")"
   ]
  }
 ],
 "metadata": {
  "kernelspec": {
   "display_name": "Python 3",
   "language": "python",
   "name": "python3"
  },
  "language_info": {
   "codemirror_mode": {
    "name": "ipython",
    "version": 3
   },
   "file_extension": ".py",
   "mimetype": "text/x-python",
   "name": "python",
   "nbconvert_exporter": "python",
   "pygments_lexer": "ipython3",
   "version": "3.12.6"
  }
 },
 "nbformat": 4,
 "nbformat_minor": 2
}
