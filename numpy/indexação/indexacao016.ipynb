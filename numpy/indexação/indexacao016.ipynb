{
 "cells": [
  {
   "cell_type": "markdown",
   "metadata": {},
   "source": [
    "# Indexação BÁSICA"
   ]
  },
  {
   "cell_type": "code",
   "execution_count": 4,
   "metadata": {},
   "outputs": [
    {
     "name": "stdout",
     "output_type": "stream",
     "text": [
      "A matriz criada foi:\n",
      "[[1 2 3]\n",
      " [4 5 6]\n",
      " [7 8 9]]\n",
      "Acessando o elemento da 2 linha e 3 coluna da matriz: 6\n"
     ]
    }
   ],
   "source": [
    "# Acesse o elemento da 2 linha e 3 coluna de uma matriz 3x3\n",
    "\n",
    "import numpy as np\n",
    "matriz = np.array([[1,2,3], [4,5,6], [7,8,9]])\n",
    "print(f\"A matriz criada foi:\\n{matriz}\")\n",
    "print(f\"Acessando o elemento da 2 linha e 3 coluna da matriz: {matriz[1, 2]}\")"
   ]
  }
 ],
 "metadata": {
  "kernelspec": {
   "display_name": "Python 3",
   "language": "python",
   "name": "python3"
  },
  "language_info": {
   "codemirror_mode": {
    "name": "ipython",
    "version": 3
   },
   "file_extension": ".py",
   "mimetype": "text/x-python",
   "name": "python",
   "nbconvert_exporter": "python",
   "pygments_lexer": "ipython3",
   "version": "3.12.6"
  }
 },
 "nbformat": 4,
 "nbformat_minor": 2
}
