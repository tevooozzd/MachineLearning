{
 "cells": [
  {
   "cell_type": "markdown",
   "metadata": {},
   "source": [
    "# Indexação BÁSICA"
   ]
  },
  {
   "cell_type": "code",
   "execution_count": 1,
   "metadata": {},
   "outputs": [
    {
     "name": "stdout",
     "output_type": "stream",
     "text": [
      "A matriz criada foi:\n",
      "[[ 1  2  3  4]\n",
      " [ 5  6  7  8]\n",
      " [ 9 10 11 12]\n",
      " [13 14 15 16]]\n",
      "Acessando o elemento 10, presente na 3 linha e 2 coluna: 10\n"
     ]
    }
   ],
   "source": [
    "# Acesse o elemento 10 da matriz\n",
    "\n",
    "import numpy as np\n",
    "matriz = np.array([[1, 2, 3, 4],\n",
    "                [5, 6, 7, 8],\n",
    "                [9, 10, 11, 12], # 3 linha, 2 elemento -> (2,1)\n",
    "                [13, 14, 15, 16]])\n",
    "\n",
    "\n",
    "print(f\"A matriz criada foi:\\n{matriz}\")\n",
    "print(f\"Acessando o elemento 10, presente na 3 linha e 2 coluna: {matriz[2,1]}\")"
   ]
  }
 ],
 "metadata": {
  "kernelspec": {
   "display_name": "Python 3",
   "language": "python",
   "name": "python3"
  },
  "language_info": {
   "codemirror_mode": {
    "name": "ipython",
    "version": 3
   },
   "file_extension": ".py",
   "mimetype": "text/x-python",
   "name": "python",
   "nbconvert_exporter": "python",
   "pygments_lexer": "ipython3",
   "version": "3.12.6"
  }
 },
 "nbformat": 4,
 "nbformat_minor": 2
}
