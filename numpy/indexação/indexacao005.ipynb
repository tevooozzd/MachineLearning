{
 "cells": [
  {
   "cell_type": "markdown",
   "metadata": {},
   "source": [
    "# Indexação BÁSICA"
   ]
  },
  {
   "cell_type": "code",
   "execution_count": 2,
   "metadata": {},
   "outputs": [
    {
     "name": "stdout",
     "output_type": "stream",
     "text": [
      "O vetor criado foi: [5 7 1 6 5 3 6 4 5 3]\n",
      "Acessando o 4 elemento a partir do final: 6\n"
     ]
    }
   ],
   "source": [
    "# Use índices negativos para acessar e imprimir o quarto elementode um vetor com 10 elementos a partir do final.\n",
    "import numpy as np\n",
    "\n",
    "# Criando o vetor\n",
    "vetor = np.random.randint(0,10,10)\n",
    "\n",
    "# Acessando o 4 elemento de trás pra frente\n",
    "quarto_elemento = vetor[-4]\n",
    "\n",
    "# Printando\n",
    "print(f\"O vetor criado foi: {vetor}\")\n",
    "print(f\"Acessando o 4 elemento a partir do final: {quarto_elemento}\")"
   ]
  }
 ],
 "metadata": {
  "kernelspec": {
   "display_name": "Python 3",
   "language": "python",
   "name": "python3"
  },
  "language_info": {
   "codemirror_mode": {
    "name": "ipython",
    "version": 3
   },
   "file_extension": ".py",
   "mimetype": "text/x-python",
   "name": "python",
   "nbconvert_exporter": "python",
   "pygments_lexer": "ipython3",
   "version": "3.12.6"
  }
 },
 "nbformat": 4,
 "nbformat_minor": 2
}
