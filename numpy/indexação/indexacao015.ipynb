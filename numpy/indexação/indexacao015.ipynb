{
 "cells": [
  {
   "cell_type": "markdown",
   "metadata": {},
   "source": [
    "# Indexação EXPERT"
   ]
  },
  {
   "cell_type": "code",
   "execution_count": 3,
   "metadata": {},
   "outputs": [
    {
     "name": "stdout",
     "output_type": "stream",
     "text": [
      "O vetor criado foi: [77  3 25 41 73 17 54 22 80 83]\n",
      "Os elementos menores de 30 e maiores de 80 são: [ 3 25 17 22 83]\n"
     ]
    }
   ],
   "source": [
    "# Dado um vetor de 10 elmentos, use indexacao para acessar e imprimir os elementos que são menores que 30 ou maiores que 80.\n",
    "import numpy as np\n",
    "\n",
    "# Criando o vetor\n",
    "vetor = np.random.randint(0,100,10)\n",
    "\n",
    "# Indexação\n",
    "expert_index = np.logical_or(vetor < 30, vetor > 80)\n",
    "\n",
    "# Print\n",
    "print(f\"O vetor criado foi: {vetor}\")\n",
    "print(f\"Os elementos menores de 30 e maiores de 80 são: {vetor[expert_index]}\")"
   ]
  }
 ],
 "metadata": {
  "kernelspec": {
   "display_name": "Python 3",
   "language": "python",
   "name": "python3"
  },
  "language_info": {
   "codemirror_mode": {
    "name": "ipython",
    "version": 3
   },
   "file_extension": ".py",
   "mimetype": "text/x-python",
   "name": "python",
   "nbconvert_exporter": "python",
   "pygments_lexer": "ipython3",
   "version": "3.12.6"
  }
 },
 "nbformat": 4,
 "nbformat_minor": 2
}
