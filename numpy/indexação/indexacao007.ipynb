{
 "cells": [
  {
   "cell_type": "markdown",
   "metadata": {},
   "source": [
    "# Indexação BÁSICA"
   ]
  },
  {
   "cell_type": "code",
   "execution_count": 2,
   "metadata": {},
   "outputs": [
    {
     "name": "stdout",
     "output_type": "stream",
     "text": [
      "A matriz criada foi:\n",
      " [[1 2 3]\n",
      " [4 5 6]\n",
      " [7 8 9]]\n",
      "Acessando o elemento por ordem positiva e negativa: 6\n"
     ]
    }
   ],
   "source": [
    "# Use índices positivos e negativos para acessar e imprimir o elemento na segunda linha e última coluna de uma matriz 3x3\n",
    "import numpy as np\n",
    "\n",
    "# Criando a matriz\n",
    "matriz = np.array([ [1,2,3], [4,5,6], [7,8,9]])\n",
    "\n",
    "# Acessando o elemento\n",
    "elemento_positivo_negativo = matriz[1, -1]\n",
    "\n",
    "# Printando\n",
    "print(F\"A matriz criada foi:\\n {matriz}\")\n",
    "print(f\"Acessando o elemento por ordem positiva e negativa: {elemento_positivo_negativo}\")\n"
   ]
  }
 ],
 "metadata": {
  "kernelspec": {
   "display_name": "Python 3",
   "language": "python",
   "name": "python3"
  },
  "language_info": {
   "codemirror_mode": {
    "name": "ipython",
    "version": 3
   },
   "file_extension": ".py",
   "mimetype": "text/x-python",
   "name": "python",
   "nbconvert_exporter": "python",
   "pygments_lexer": "ipython3",
   "version": "3.12.6"
  }
 },
 "nbformat": 4,
 "nbformat_minor": 2
}
