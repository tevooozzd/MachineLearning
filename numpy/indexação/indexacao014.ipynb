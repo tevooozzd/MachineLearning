{
 "cells": [
  {
   "cell_type": "markdown",
   "metadata": {},
   "source": [
    "# Indexação EXPERT"
   ]
  },
  {
   "cell_type": "code",
   "execution_count": 2,
   "metadata": {},
   "outputs": [
    {
     "name": "stdout",
     "output_type": "stream",
     "text": [
      "O vetor criado foi: [20 96  8 81 17 34 17 54  6  0]\n",
      "Os elementos maiores que 20 e menores que 70 do vetor: [34 54]\n"
     ]
    }
   ],
   "source": [
    "# Dado um vetor de 10 elmentos, use indexação para acessar e imprimir os elementos que são maiores que 20 e menores que 70.\n",
    "import numpy as np\n",
    "\n",
    "# Criando o vetor\n",
    "vetor = np.random.randint(0,100,10)\n",
    "\n",
    "# Indexação\n",
    "expert_index = np.logical_and(vetor > 20, vetor < 70)\n",
    "\n",
    "# Print\n",
    "print(f\"O vetor criado foi: {vetor}\")\n",
    "print(f\"Os elementos maiores que 20 e menores que 70 do vetor: {vetor[expert_index]}\")"
   ]
  }
 ],
 "metadata": {
  "kernelspec": {
   "display_name": "Python 3",
   "language": "python",
   "name": "python3"
  },
  "language_info": {
   "codemirror_mode": {
    "name": "ipython",
    "version": 3
   },
   "file_extension": ".py",
   "mimetype": "text/x-python",
   "name": "python",
   "nbconvert_exporter": "python",
   "pygments_lexer": "ipython3",
   "version": "3.12.6"
  }
 },
 "nbformat": 4,
 "nbformat_minor": 2
}
